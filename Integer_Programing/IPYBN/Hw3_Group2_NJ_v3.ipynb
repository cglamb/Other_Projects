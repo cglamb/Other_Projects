{
 "cells": [
  {
   "cell_type": "markdown",
   "id": "8b7959de",
   "metadata": {
    "colab_type": "text",
    "id": "view-in-github"
   },
   "source": [
    "<a href=\"https://colab.research.google.com/github/cglamb/Collab/blob/main/Hw3_Group2_NJ_LowerNJ.ipynb\" target=\"_parent\"><img src=\"https://colab.research.google.com/assets/colab-badge.svg\" alt=\"Open In Colab\"/></a>"
   ]
  },
  {
   "cell_type": "markdown",
   "id": "25a1c63b",
   "metadata": {
    "id": "25a1c63b"
   },
   "source": [
    "### Redistricting New Jersey"
   ]
  },
  {
   "cell_type": "markdown",
   "id": "1da7c19c",
   "metadata": {
    "id": "1da7c19c"
   },
   "source": [
    "Group 2: Charles Lamb, Connor Cassedy, Heidi Huckabay, and Susan Alrifai"
   ]
  },
  {
   "cell_type": "markdown",
   "id": "766fbe33",
   "metadata": {
    "id": "766fbe33"
   },
   "source": [
    "### Library Import"
   ]
  },
  {
   "cell_type": "code",
   "execution_count": 1,
   "id": "uk-B6EAE7-XE",
   "metadata": {
    "colab": {
     "base_uri": "https://localhost:8080/"
    },
    "id": "uk-B6EAE7-XE",
    "outputId": "c1f60f94-f236-486e-dc9a-8e93e379d2c8"
   },
   "outputs": [
    {
     "name": "stdout",
     "output_type": "stream",
     "text": [
      "Requirement already satisfied: pulp in c:\\users\\cglam\\anaconda3_\\lib\\site-packages (2.7.0)\n",
      "Note: you may need to restart the kernel to use updated packages.\n"
     ]
    }
   ],
   "source": [
    "pip install pulp"
   ]
  },
  {
   "cell_type": "code",
   "execution_count": 2,
   "id": "2c422ae0",
   "metadata": {
    "id": "2c422ae0"
   },
   "outputs": [],
   "source": [
    "#import libraries\n",
    "import pulp, numpy as np, pandas as pd, math\n",
    "from pulp import *"
   ]
  },
  {
   "cell_type": "markdown",
   "id": "5320caca",
   "metadata": {},
   "source": [
    "### Log Start"
   ]
  },
  {
   "cell_type": "code",
   "execution_count": 3,
   "id": "1b5a3fae",
   "metadata": {},
   "outputs": [],
   "source": [
    "#drops a local file that records the start time\n",
    "#just using this to track computation time\n",
    "d=[]\n",
    "df_dummy = pd.DataFrame(d)\n",
    "df_dummy.to_csv('start_time.txt')"
   ]
  },
  {
   "cell_type": "markdown",
   "id": "55ed7ca4",
   "metadata": {
    "id": "55ed7ca4"
   },
   "source": [
    "### New Jersey State Data"
   ]
  },
  {
   "cell_type": "markdown",
   "id": "ed98b970",
   "metadata": {
    "id": "ed98b970"
   },
   "source": [
    "Data source is US Census data containing 2020 population size by county for the state of New Jersey: https://www.census.gov/data/tables/time-series/demo/popest/2020s-counties-total.html"
   ]
  },
  {
   "cell_type": "code",
   "execution_count": 4,
   "id": "4f53c89b",
   "metadata": {
    "id": "4f53c89b"
   },
   "outputs": [],
   "source": [
    "#bringing in county and population as list\n",
    "#pre-processing was done in excel\n",
    "county_pop = [['Atlantic',274536],['Bergen',955746],['Burlington',461863],['Camden',523486],['Cape',95266],['Cumberland',154148],['Essex',862782],['Gloucester',302285],['Hudson',724857],['Hunterdon',128962],['Mercer',387340],['Middlesex',863183],['Monmouth',643608],['Morris',509277],['Ocean',637229],['Passaic',525052],['Salem',64834],['Somerset',345356],['Sussex',144231],['Union',575352],['Warren',109638]]"
   ]
  },
  {
   "cell_type": "code",
   "execution_count": 5,
   "id": "4b9c301e",
   "metadata": {
    "id": "4b9c301e"
   },
   "outputs": [],
   "source": [
    "#setting up a dataframe\n",
    "df0 = pd.DataFrame(county_pop,columns=['county','pop'])"
   ]
  },
  {
   "cell_type": "code",
   "execution_count": 6,
   "id": "53bf0b33",
   "metadata": {
    "colab": {
     "base_uri": "https://localhost:8080/"
    },
    "id": "53bf0b33",
    "outputId": "6fc1758f-2ca9-4506-9a56-2b3f88551b73"
   },
   "outputs": [
    {
     "name": "stdout",
     "output_type": "stream",
     "text": [
      "21\n"
     ]
    }
   ],
   "source": [
    "#checking we have the appropriate number of counties in the dataframe\n",
    "#per the assignment we expect to see 21\n",
    "county_cnt = len(df0['county'].unique())\n",
    "print(county_cnt)"
   ]
  },
  {
   "cell_type": "markdown",
   "id": "9fdedea2",
   "metadata": {
    "id": "9fdedea2"
   },
   "source": [
    "### Adjacent Pair Setup"
   ]
  },
  {
   "cell_type": "markdown",
   "id": "06b83617",
   "metadata": {
    "id": "06b83617"
   },
   "source": [
    "Based on data from the following: https://www2.census.gov/geo/docs/reference/county_adjacency.txt"
   ]
  },
  {
   "cell_type": "markdown",
   "id": "147f81f4",
   "metadata": {
    "id": "147f81f4"
   },
   "source": [
    "Some pre-proceesing was performed.  Pairs were found only for the state of New Jersey.  And some many adjustment to county name conventions was made to be consistent with the rest of data used in this file"
   ]
  },
  {
   "cell_type": "code",
   "execution_count": 7,
   "id": "1d0306fd",
   "metadata": {
    "id": "1d0306fd"
   },
   "outputs": [],
   "source": [
    "county_pair_list= [['Atlantic','Burlington'],['Atlantic','Camden'],['Atlantic','Cape'],['Atlantic','Cumberland'],['Atlantic','Gloucester'],['Atlantic','Ocean'],['Bergen','Essex'],['Bergen','Hudson'],['Bergen','Passaic'],['Burlington','Atlantic'],['Burlington','Camden'],['Burlington','Mercer'],['Burlington','Monmouth'],['Burlington','Ocean'],['Camden','Atlantic'],['Camden','Burlington'],['Camden','Gloucester'],['Cape','Atlantic'],['Cape','Cumberland'],['Cumberland','Atlantic'],['Cumberland','Cape'],['Cumberland','Gloucester'],['Cumberland','Salem'],['Essex','Bergen'],['Essex','Hudson'],['Essex','Morris'],['Essex','Passaic'],['Essex','Union'],['Gloucester','Atlantic'],['Gloucester','Camden'],['Gloucester','Cumberland'],['Gloucester','Salem'],['Hudson','Bergen'],['Hudson','Essex'],['Hudson','Union'],['Hunterdon','Mercer'],['Hunterdon','Morris'],['Hunterdon','Somerset'],['Hunterdon','Warren'],['Mercer','Burlington'],['Mercer','Hunterdon'],['Mercer','Middlesex'],['Mercer','Monmouth'],['Mercer','Somerset'],['Middlesex','Mercer'],['Middlesex','Monmouth'],['Middlesex','Somerset'],['Middlesex','Union'],['Monmouth','Burlington'],['Monmouth','Mercer'],['Monmouth','Middlesex'],['Monmouth','Ocean'],['Morris','Essex'],['Morris','Hunterdon'],['Morris','Passaic'],['Morris','Somerset'],['Morris','Sussex'],['Morris','Union'],['Morris','Warren'],['Ocean','Atlantic'],['Ocean','Burlington'],['Ocean','Monmouth'],['Passaic','Bergen'],['Passaic','Essex'],['Passaic','Morris'],['Passaic','Sussex'],['Salem','Cumberland'],['Salem','Gloucester'],['Somerset','Hunterdon'],['Somerset','Mercer'],['Somerset','Middlesex'],['Somerset','Morris'],['Somerset','Union'],['Sussex','Morris'],['Sussex','Passaic'],['Sussex','Warren'],['Union','Essex'],['Union','Hudson'],['Union','Middlesex'],['Union','Morris'],['Union','Somerset'],['Warren','Hunterdon'],['Warren','Morris'],['Warren','Sussex']]"
   ]
  },
  {
   "cell_type": "code",
   "execution_count": 8,
   "id": "b1d5195d",
   "metadata": {
    "id": "b1d5195d"
   },
   "outputs": [],
   "source": [
    "df_pair = pd.DataFrame(county_pair_list, columns=['county','adj_county'])"
   ]
  },
  {
   "cell_type": "markdown",
   "id": "f64424c5",
   "metadata": {
    "id": "f64424c5"
   },
   "source": [
    "### Total Pop Count"
   ]
  },
  {
   "cell_type": "code",
   "execution_count": 9,
   "id": "bf1f7aab",
   "metadata": {
    "colab": {
     "base_uri": "https://localhost:8080/",
     "height": 35
    },
    "id": "bf1f7aab",
    "outputId": "a1979dfb-4f18-43cf-acb8-d7c6f104e6d9"
   },
   "outputs": [],
   "source": [
    "state_pop = df0['pop'].sum()"
   ]
  },
  {
   "cell_type": "markdown",
   "id": "3e872780",
   "metadata": {
    "id": "3e872780"
   },
   "source": [
    "### Global Variables"
   ]
  },
  {
   "cell_type": "code",
   "execution_count": 10,
   "id": "2125b0f5",
   "metadata": {
    "id": "2125b0f5"
   },
   "outputs": [],
   "source": [
    "num_counties = county_cnt #number of counties\n",
    "num_leg_districits = 12 #number of legistlative districts\n",
    "pop_per_rep = state_pop / num_leg_districits #gives us population per representative\n",
    "pop_sen = 1.25 #variance we will allow in district pop from average\n",
    "pop_max = pop_per_rep * pop_sen #max pop allowed in each legislative district\n",
    "pop_min = pop_per_rep / pop_sen #min pop allowed in each legislative district"
   ]
  },
  {
   "cell_type": "markdown",
   "id": "df93e271",
   "metadata": {},
   "source": [
    "### Looking for Counties with Populations within the Pop Range"
   ]
  },
  {
   "cell_type": "code",
   "execution_count": 11,
   "id": "302be098",
   "metadata": {
    "colab": {
     "base_uri": "https://localhost:8080/"
    },
    "id": "302be098",
    "outputId": "8becae4e-68b5-425c-e1cc-b77b4833cd0a"
   },
   "outputs": [
    {
     "data": {
      "text/plain": [
       "1        Bergen\n",
       "6         Essex\n",
       "8        Hudson\n",
       "11    Middlesex\n",
       "12     Monmouth\n",
       "14        Ocean\n",
       "Name: county, dtype: object"
      ]
     },
     "execution_count": 11,
     "metadata": {},
     "output_type": "execute_result"
    }
   ],
   "source": [
    "df0[df0['pop'] >= pop_min]['county']"
   ]
  },
  {
   "cell_type": "code",
   "execution_count": 12,
   "id": "dfe474f3",
   "metadata": {},
   "outputs": [],
   "source": [
    "isolate_list = df0[df0['pop'] >= pop_min]['county']"
   ]
  },
  {
   "cell_type": "markdown",
   "id": "0dd37943",
   "metadata": {
    "id": "0dd37943"
   },
   "source": [
    "### Setup"
   ]
  },
  {
   "cell_type": "code",
   "execution_count": 13,
   "id": "659f6e85",
   "metadata": {
    "id": "659f6e85"
   },
   "outputs": [],
   "source": [
    "#creating a variable for each county.\n",
    "counties = df0['county'].unique()"
   ]
  },
  {
   "cell_type": "code",
   "execution_count": 14,
   "id": "39013b59",
   "metadata": {
    "id": "39013b59"
   },
   "outputs": [],
   "source": [
    "#creating a variable for each district\n",
    "district = list(range(0,num_leg_districits))"
   ]
  },
  {
   "cell_type": "code",
   "execution_count": 15,
   "id": "dac423f1",
   "metadata": {
    "id": "dac423f1"
   },
   "outputs": [],
   "source": [
    "#creating a population dictionary\n",
    "pop_list = df0['pop']\n",
    "pop = dict(zip(counties, pop_list))"
   ]
  },
  {
   "cell_type": "code",
   "execution_count": 16,
   "id": "a0caf867",
   "metadata": {
    "id": "a0caf867"
   },
   "outputs": [],
   "source": [
    "#adjacency dictionary\n",
    "adj_dict = df_pair.groupby('county')['adj_county'].apply(list).to_dict()"
   ]
  },
  {
   "cell_type": "markdown",
   "id": "b0fed6d1",
   "metadata": {
    "id": "b0fed6d1"
   },
   "source": [
    "### Creating All Possible Adjacent Pairs"
   ]
  },
  {
   "cell_type": "code",
   "execution_count": 17,
   "id": "7024d194",
   "metadata": {
    "id": "7024d194"
   },
   "outputs": [],
   "source": [
    "#just some list magic to generate objects i will use to generate pair variables in PulP\n",
    "pair_temp = []\n",
    "sorted_pair_temp = []\n",
    "start_county = []\n",
    "end_county = []\n",
    "for i in counties:\n",
    "    for p in adj_dict[i]:\n",
    "       pair_temp.append(i+p)\n",
    "       sorted_pair_temp.append(sorted(i+p))\n",
    "       start_county.append(i)\n",
    "       end_county.append(p)\n",
    "d = {'pair_list':pair_temp,'sorted':sorted_pair_temp,\"start\":start_county,\"end\":end_county}\n",
    "df = pd.DataFrame(d)\n",
    "key_list = df.sorted.drop_duplicates().keys()\n",
    "pair_list = df.pair_list[key_list]\n",
    "start_list = df.start[key_list]\n",
    "end_list = df.end[key_list]"
   ]
  },
  {
   "cell_type": "markdown",
   "id": "8eef24ea",
   "metadata": {
    "id": "8eef24ea"
   },
   "source": [
    "### Creating a dataframe of each pair within each district layer"
   ]
  },
  {
   "cell_type": "code",
   "execution_count": 18,
   "id": "0a806aeb",
   "metadata": {
    "id": "0a806aeb"
   },
   "outputs": [],
   "source": [
    "#this will help built the constraint a little quicker, so doing this here and now\n",
    "pair_list2  = [(p,d) for p in pair_list for d in district]\n",
    "start_list2  = [(s,d) for s in start_list for d in district]\n",
    "end_list2  = [(e,d) for e in end_list for d in district]\n",
    "d2 = {'pair_list':pair_list2,'start':start_list2,\"end\":end_list2}\n",
    "df2 = pd.DataFrame(d2)"
   ]
  },
  {
   "cell_type": "markdown",
   "id": "8f5c5613",
   "metadata": {
    "id": "8f5c5613"
   },
   "source": [
    "### Establishing Variables"
   ]
  },
  {
   "cell_type": "code",
   "execution_count": 19,
   "id": "a5293064",
   "metadata": {
    "id": "a5293064"
   },
   "outputs": [],
   "source": [
    "#establish county/district variables\n",
    "county_district = LpVariable.dicts(\"xij\",[(c,d) for c in counties for d in district],0,1,cat=\"Integer\")\n",
    "adj_pair = LpVariable.dicts(\"xprime\",[p for p in pair_list],0,1,cat=\"Integer\")"
   ]
  },
  {
   "cell_type": "markdown",
   "id": "aa25362c",
   "metadata": {
    "id": "aa25362c"
   },
   "source": [
    "### Objective Function"
   ]
  },
  {
   "cell_type": "code",
   "execution_count": 20,
   "id": "ddecd890",
   "metadata": {
    "id": "ddecd890"
   },
   "outputs": [],
   "source": [
    "#setting up problem\n",
    "prob = LpProblem(\"problem\",LpMinimize)\n",
    "prob += lpSum([adj_pair[i] for i in adj_pair])"
   ]
  },
  {
   "cell_type": "code",
   "execution_count": 21,
   "id": "75b6376d",
   "metadata": {},
   "outputs": [
    {
     "data": {
      "text/plain": [
       "1        Bergen\n",
       "6         Essex\n",
       "8        Hudson\n",
       "11    Middlesex\n",
       "12     Monmouth\n",
       "14        Ocean\n",
       "Name: county, dtype: object"
      ]
     },
     "execution_count": 21,
     "metadata": {},
     "output_type": "execute_result"
    }
   ],
   "source": [
    "#just a reminder we expect these counties to be their own districts as they exceed the population min threshold. \n",
    "#that being said, it is possible a very small adjacent county good get lumped in with these\n",
    "#for NJ, I doubt this will happen though as the most populated counties are concentrated near the NY boarder\n",
    "isolate_list"
   ]
  },
  {
   "cell_type": "markdown",
   "id": "f07390d5",
   "metadata": {
    "id": "f07390d5"
   },
   "source": [
    "### Establishing constraints"
   ]
  },
  {
   "cell_type": "code",
   "execution_count": 22,
   "id": "da22b7cf",
   "metadata": {
    "id": "da22b7cf"
   },
   "outputs": [],
   "source": [
    "#making sure each county is assigned to one and only one district\n",
    "for c in counties:\n",
    "    prob += lpSum([county_district[(c,d)] for d in district]) == 1\n",
    "\n",
    "#setting up constraints on max population in each district\n",
    "for d in district:\n",
    "    prob += lpSum([county_district[(i,d)] * pop[i] for i in counties]) <= pop_max\n",
    "\n",
    "#setting up constraints on min population in each district\n",
    "for d in district:\n",
    "    prob += lpSum([county_district[(i,d)] * pop[i] for i in counties]) >= pop_min\n",
    "\n",
    "#cut edge variables\n",
    "for i in range(len(pair_list2)):\n",
    "    prob += adj_pair[list(adj_pair)[math.ceil(i/num_leg_districits)-1]] >= county_district[start_list2[i]] - county_district[end_list2[i]]\n",
    "\n",
    "for i in range(len(pair_list2)):\n",
    "    prob += adj_pair[list(adj_pair)[math.ceil(i/num_leg_districits)-1]] >= county_district[end_list2[i]] - county_district[start_list2[i]]\n",
    "    \n",
    "#mandating adjacency\n",
    "#the counties in the isolation list to do not have adjacency requirements\n",
    "#this is because we expect these counties to be their own districts\n",
    "#having an adjacency rule would force them to merge with a neighbor\n",
    "#as we enforce adjacency every else this shouldnt create a problem for us\n",
    "for d in district:\n",
    "    prob += county_district[\"Atlantic\",d] <= county_district[\"Burlington\",d] + county_district[\"Camden\",d] + county_district[\"Cape\",d]  + county_district[\"Cumberland\",d] + county_district[\"Gloucester\",d] + county_district[\"Ocean\",d]\n",
    "    prob += county_district[\"Burlington\",d] <= county_district[\"Atlantic\",d] + county_district[\"Camden\",d] + county_district[\"Mercer\",d]  + county_district[\"Monmouth\",d] + county_district[\"Ocean\",d] \n",
    "    prob += county_district[\"Camden\",d] <= county_district[\"Burlington\",d] + county_district[\"Atlantic\",d] + county_district[\"Gloucester\",d]\n",
    "    prob += county_district[\"Cape\",d] <= county_district[\"Cumberland\",d] + county_district[\"Atlantic\",d]\n",
    "    prob += county_district[\"Cumberland\",d] <= county_district[\"Salem\",d] + county_district[\"Gloucester\",d] + county_district[\"Atlantic\",d] + county_district[\"Cape\",d] \n",
    "    prob += county_district[\"Gloucester\",d] <= county_district[\"Salem\",d] + county_district[\"Cumberland\",d] + county_district[\"Atlantic\",d] + county_district[\"Camden\",d]\n",
    "    prob += county_district[\"Hunterdon\",d] <= county_district[\"Mercer\",d] + county_district[\"Morris\",d] + county_district[\"Somerset\",d] + county_district[\"Warren\",d] \n",
    "    prob += county_district[\"Mercer\",d] <= county_district[\"Burlington\",d] + county_district[\"Hunterdon\",d] + county_district[\"Middlesex\",d] + county_district[\"Monmouth\",d] + county_district[\"Somerset\",d] \n",
    "    prob += county_district[\"Monmouth\",d] <= county_district[\"Burlington\",d] + county_district[\"Mercer\",d] + county_district[\"Middlesex\",d] + county_district[\"Ocean\",d] \n",
    "    prob += county_district[\"Morris\",d] <= county_district[\"Essex\",d] + county_district[\"Hunterdon\",d] + county_district[\"Passaic\",d] + county_district[\"Somerset\",d] + county_district[\"Sussex\",d] + county_district[\"Union\",d] + county_district[\"Warren\",d] \n",
    "    prob += county_district[\"Ocean\",d] <= county_district[\"Atlantic\",d] + county_district[\"Burlington\",d] + county_district[\"Monmouth\",d]\n",
    "    prob += county_district[\"Passaic\",d] <= county_district[\"Bergen\",d] + county_district[\"Essex\",d] + county_district[\"Morris\",d] + county_district[\"Sussex\",d]\n",
    "    prob += county_district[\"Salem\",d] <= county_district[\"Gloucester\",d] + county_district[\"Cumberland\",d]  \n",
    "    prob += county_district[\"Somerset\",d] <= county_district[\"Hunterdon\",d] + county_district[\"Mercer\",d] + county_district[\"Middlesex\",d] + county_district[\"Morris\",d] + county_district[\"Union\",d]\n",
    "    prob += county_district[\"Sussex\",d] <= county_district[\"Morris\",d] + county_district[\"Passaic\",d] + county_district[\"Warren\",d]                 \n",
    "    prob += county_district[\"Union\",d] <= county_district[\"Essex\",d] + county_district[\"Hudson\",d] + county_district[\"Middlesex\",d] + county_district[\"Morris\",d] + county_district[\"Somerset\",d]    "
   ]
  },
  {
   "cell_type": "markdown",
   "id": "7bd69b6b",
   "metadata": {
    "id": "7bd69b6b"
   },
   "source": [
    "### Solve"
   ]
  },
  {
   "cell_type": "code",
   "execution_count": null,
   "id": "109cb847",
   "metadata": {
    "colab": {
     "base_uri": "https://localhost:8080/"
    },
    "id": "109cb847",
    "outputId": "9467c2e1-db9e-432d-f81a-934e5aa51e71"
   },
   "outputs": [],
   "source": [
    "prob.solve(GLPK_CMD(options=[\"--mipgap\", \"0.05\", \"--gomory\"]))"
   ]
  },
  {
   "cell_type": "markdown",
   "id": "83f15e3a",
   "metadata": {
    "id": "83f15e3a"
   },
   "source": [
    "### Show the Assignment of County to Legislative District"
   ]
  },
  {
   "cell_type": "code",
   "execution_count": null,
   "id": "5e6afc0e",
   "metadata": {
    "id": "5e6afc0e"
   },
   "outputs": [],
   "source": [
    "assignment_list = []\n",
    "assignment_county = []\n",
    "assignment_district = []\n",
    "assignment_pop = []\n",
    "for i in county_district:\n",
    "    assignment_list.append(county_district[i].varValue)\n",
    "for c in counties:\n",
    "    for j in district:\n",
    "        assignment_county.append(c)\n",
    "        assignment_district.append(j)\n",
    "        assignment_pop.append(pop[c])\n",
    "d3 = {\"County\":assignment_county, \"Legislative_District\": assignment_district, \"assignment_list\": assignment_list, \"pop\": assignment_pop}\n",
    "df3 = pd.DataFrame(d3)\n",
    "df3 = df3[df3['assignment_list'] == 1]"
   ]
  },
  {
   "cell_type": "code",
   "execution_count": null,
   "id": "33c06637",
   "metadata": {
    "colab": {
     "base_uri": "https://localhost:8080/",
     "height": 143
    },
    "id": "33c06637",
    "outputId": "537828fa-e9a2-478d-f6e4-ebabf1c22624"
   },
   "outputs": [],
   "source": [
    "df3.groupby('Legislative_District')['County'].apply(' '.join).reset_index()"
   ]
  },
  {
   "cell_type": "code",
   "execution_count": null,
   "id": "89f85ad2",
   "metadata": {},
   "outputs": [],
   "source": [
    "df3.groupby('Legislative_District')['pop'].sum().reset_index()"
   ]
  },
  {
   "cell_type": "code",
   "execution_count": null,
   "id": "d6dff33e",
   "metadata": {
    "id": "d6dff33e"
   },
   "outputs": [],
   "source": [
    "#exports a assignment table to the local directory for reference\n",
    "df3.to_excel('output_NJ.xlsx')"
   ]
  },
  {
   "cell_type": "markdown",
   "id": "bcb21562",
   "metadata": {
    "id": "3-W9xv7wHJfN"
   },
   "source": [
    "### Check"
   ]
  },
  {
   "cell_type": "code",
   "execution_count": null,
   "id": "OA0O9NNcG0m0",
   "metadata": {
    "colab": {
     "base_uri": "https://localhost:8080/"
    },
    "id": "OA0O9NNcG0m0",
    "outputId": "8076fc55-e814-4e98-90c6-d5151c596aeb"
   },
   "outputs": [],
   "source": [
    "for variable in prob.variables():\n",
    "    print(f'{variable}: {value(variable.varValue)}')"
   ]
  },
  {
   "cell_type": "code",
   "execution_count": null,
   "id": "q-JlXNwrHTff",
   "metadata": {
    "colab": {
     "base_uri": "https://localhost:8080/"
    },
    "id": "q-JlXNwrHTff",
    "outputId": "964cc563-5d96-4f3e-c467-de58d4e53859"
   },
   "outputs": [],
   "source": [
    "print(prob)"
   ]
  }
 ],
 "metadata": {
  "colab": {
   "include_colab_link": true,
   "provenance": []
  },
  "kernelspec": {
   "display_name": "Python 3 (ipykernel)",
   "language": "python",
   "name": "python3"
  },
  "language_info": {
   "codemirror_mode": {
    "name": "ipython",
    "version": 3
   },
   "file_extension": ".py",
   "mimetype": "text/x-python",
   "name": "python",
   "nbconvert_exporter": "python",
   "pygments_lexer": "ipython3",
   "version": "3.10.9"
  }
 },
 "nbformat": 4,
 "nbformat_minor": 5
}

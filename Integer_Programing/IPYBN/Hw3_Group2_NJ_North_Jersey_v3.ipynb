{
 "cells": [
  {
   "cell_type": "markdown",
   "id": "8b7959de",
   "metadata": {
    "colab_type": "text",
    "id": "view-in-github"
   },
   "source": [
    "<a href=\"https://colab.research.google.com/github/cglamb/Collab/blob/main/Hw3_Group2_NJ_LowerNJ.ipynb\" target=\"_parent\"><img src=\"https://colab.research.google.com/assets/colab-badge.svg\" alt=\"Open In Colab\"/></a>"
   ]
  },
  {
   "cell_type": "markdown",
   "id": "25a1c63b",
   "metadata": {
    "id": "25a1c63b"
   },
   "source": [
    "### Redistricting New Jersey"
   ]
  },
  {
   "cell_type": "markdown",
   "id": "1da7c19c",
   "metadata": {
    "id": "1da7c19c"
   },
   "source": [
    "Group 2: Charles Lamb, Connor Cassedy, Heidi Huckabay, and Susan Alrifai"
   ]
  },
  {
   "cell_type": "markdown",
   "id": "766fbe33",
   "metadata": {
    "id": "766fbe33"
   },
   "source": [
    "### Library Import"
   ]
  },
  {
   "cell_type": "code",
   "execution_count": 1,
   "id": "uk-B6EAE7-XE",
   "metadata": {
    "colab": {
     "base_uri": "https://localhost:8080/"
    },
    "id": "uk-B6EAE7-XE",
    "outputId": "c1f60f94-f236-486e-dc9a-8e93e379d2c8"
   },
   "outputs": [
    {
     "name": "stdout",
     "output_type": "stream",
     "text": [
      "Requirement already satisfied: pulp in c:\\users\\cglam\\anaconda3_\\lib\\site-packages (2.7.0)\n",
      "Note: you may need to restart the kernel to use updated packages.\n"
     ]
    }
   ],
   "source": [
    "pip install pulp"
   ]
  },
  {
   "cell_type": "code",
   "execution_count": 2,
   "id": "2c422ae0",
   "metadata": {
    "id": "2c422ae0"
   },
   "outputs": [],
   "source": [
    "#import libraries\n",
    "import pulp, numpy as np, pandas as pd, math\n",
    "from pulp import *"
   ]
  },
  {
   "cell_type": "markdown",
   "id": "55ed7ca4",
   "metadata": {
    "id": "55ed7ca4"
   },
   "source": [
    "### New Jersey State Data"
   ]
  },
  {
   "cell_type": "markdown",
   "id": "ed98b970",
   "metadata": {
    "id": "ed98b970"
   },
   "source": [
    "Data source is US Census data containing 2020 population size by county for the state of New Jersey: https://www.census.gov/data/tables/time-series/demo/popest/2020s-counties-total.html"
   ]
  },
  {
   "cell_type": "code",
   "execution_count": 3,
   "id": "4f53c89b",
   "metadata": {
    "id": "4f53c89b"
   },
   "outputs": [],
   "source": [
    "#bringing in county and population as list\n",
    "county_pop = [['Bergen',955746],['Essex',862782],['Hudson',724857],['Hunterdon',128962],['Morris',509277],['Passaic',525052],['Somerset',345356],['Sussex',144231],['Union',575352],['Warren',109638]]"
   ]
  },
  {
   "cell_type": "code",
   "execution_count": 4,
   "id": "4b9c301e",
   "metadata": {
    "id": "4b9c301e"
   },
   "outputs": [],
   "source": [
    "#setting up a dataframe\n",
    "df0 = pd.DataFrame(county_pop,columns=['county','pop'])"
   ]
  },
  {
   "cell_type": "code",
   "execution_count": 5,
   "id": "53bf0b33",
   "metadata": {
    "colab": {
     "base_uri": "https://localhost:8080/"
    },
    "id": "53bf0b33",
    "outputId": "6fc1758f-2ca9-4506-9a56-2b3f88551b73"
   },
   "outputs": [
    {
     "name": "stdout",
     "output_type": "stream",
     "text": [
      "10\n"
     ]
    }
   ],
   "source": [
    "#checking we have the appropriate number of counties in the dataframe\n",
    "#per the assignment we expect to see 92\n",
    "county_cnt = len(df0['county'].unique())\n",
    "print(county_cnt)"
   ]
  },
  {
   "cell_type": "markdown",
   "id": "9fdedea2",
   "metadata": {
    "id": "9fdedea2"
   },
   "source": [
    "### Adjacent Pair Setup"
   ]
  },
  {
   "cell_type": "markdown",
   "id": "06b83617",
   "metadata": {
    "id": "06b83617"
   },
   "source": [
    "Based on data from the following: https://www2.census.gov/geo/docs/reference/county_adjacency.txt"
   ]
  },
  {
   "cell_type": "markdown",
   "id": "147f81f4",
   "metadata": {
    "id": "147f81f4"
   },
   "source": [
    "Some pre-proceesing was performed.  Pairs were found only for the state of Indiana.  And some many adjustment to county name conventions was made to be consistent with the rest of data used in this file"
   ]
  },
  {
   "cell_type": "code",
   "execution_count": 6,
   "id": "1d0306fd",
   "metadata": {
    "id": "1d0306fd"
   },
   "outputs": [],
   "source": [
    "county_pair_list= [['Bergen','Essex'],['Bergen','Hudson'],['Bergen','Passaic'],['Essex','Bergen'],['Essex','Hudson'],['Essex','Morris'],['Essex','Passaic'],['Essex','Union'],['Hudson','Bergen'],['Hudson','Essex'],['Hudson','Union'],['Hunterdon','Morris'],['Hunterdon','Somerset'],['Hunterdon','Warren'],['Morris','Essex'],['Morris','Hunterdon'],['Morris','Passaic'],['Morris','Somerset'],['Morris','Sussex'],['Morris','Union'],['Morris','Warren'],['Passaic','Bergen'],['Passaic','Essex'],['Passaic','Morris'],['Passaic','Sussex'],['Somerset','Hunterdon'],['Somerset','Morris'],['Somerset','Union'],['Sussex','Morris'],['Sussex','Passaic'],['Sussex','Warren'],['Union','Essex'],['Union','Hudson'],['Union','Morris'],['Union','Somerset'],['Warren','Hunterdon'],['Warren','Morris'],['Warren','Sussex']]"
   ]
  },
  {
   "cell_type": "code",
   "execution_count": 7,
   "id": "b1d5195d",
   "metadata": {
    "id": "b1d5195d"
   },
   "outputs": [],
   "source": [
    "df_pair = pd.DataFrame(county_pair_list, columns=['county','adj_county'])"
   ]
  },
  {
   "cell_type": "markdown",
   "id": "f64424c5",
   "metadata": {
    "id": "f64424c5"
   },
   "source": [
    "### Total Pop Count"
   ]
  },
  {
   "cell_type": "code",
   "execution_count": 8,
   "id": "bf1f7aab",
   "metadata": {
    "colab": {
     "base_uri": "https://localhost:8080/",
     "height": 35
    },
    "id": "bf1f7aab",
    "outputId": "a1979dfb-4f18-43cf-acb8-d7c6f104e6d9"
   },
   "outputs": [],
   "source": [
    "state_pop = df0['pop'].sum()"
   ]
  },
  {
   "cell_type": "markdown",
   "id": "3e872780",
   "metadata": {
    "id": "3e872780"
   },
   "source": [
    "### Global Variables"
   ]
  },
  {
   "cell_type": "code",
   "execution_count": 9,
   "id": "2125b0f5",
   "metadata": {
    "id": "2125b0f5"
   },
   "outputs": [],
   "source": [
    "num_counties = county_cnt #number of counties\n",
    "num_leg_districits = 6 #number of legistlative districts\n",
    "pop_per_rep = state_pop / num_leg_districits #gives us population per representative\n",
    "pop_sen = 1.25 #variance we will allow in district pop from average\n",
    "pop_max = pop_per_rep * pop_sen #max pop allowed in each legislative district\n",
    "pop_min = pop_per_rep / pop_sen #min pop allowed in each legislative district"
   ]
  },
  {
   "cell_type": "markdown",
   "id": "df93e271",
   "metadata": {},
   "source": [
    "### Looking for Counties with Populations within the Pop Range"
   ]
  },
  {
   "cell_type": "code",
   "execution_count": 10,
   "id": "302be098",
   "metadata": {
    "colab": {
     "base_uri": "https://localhost:8080/"
    },
    "id": "302be098",
    "outputId": "8becae4e-68b5-425c-e1cc-b77b4833cd0a"
   },
   "outputs": [
    {
     "data": {
      "text/plain": [
       "0    Bergen\n",
       "1     Essex\n",
       "2    Hudson\n",
       "Name: county, dtype: object"
      ]
     },
     "execution_count": 10,
     "metadata": {},
     "output_type": "execute_result"
    }
   ],
   "source": [
    "df0[df0['pop'] >= pop_min]['county']"
   ]
  },
  {
   "cell_type": "code",
   "execution_count": 11,
   "id": "dfe474f3",
   "metadata": {},
   "outputs": [],
   "source": [
    "isolate_list = df0[df0['pop'] >= pop_min]['county']"
   ]
  },
  {
   "cell_type": "markdown",
   "id": "0dd37943",
   "metadata": {
    "id": "0dd37943"
   },
   "source": [
    "### Setup"
   ]
  },
  {
   "cell_type": "code",
   "execution_count": 12,
   "id": "659f6e85",
   "metadata": {
    "id": "659f6e85"
   },
   "outputs": [],
   "source": [
    "#creating a variable for each county.\n",
    "counties = df0['county'].unique()"
   ]
  },
  {
   "cell_type": "code",
   "execution_count": 13,
   "id": "39013b59",
   "metadata": {
    "id": "39013b59"
   },
   "outputs": [],
   "source": [
    "#creating a variable for each district\n",
    "district = list(range(0,num_leg_districits))"
   ]
  },
  {
   "cell_type": "code",
   "execution_count": 14,
   "id": "dac423f1",
   "metadata": {
    "id": "dac423f1"
   },
   "outputs": [],
   "source": [
    "#creating a population dictionary\n",
    "pop_list = df0['pop']\n",
    "pop = dict(zip(counties, pop_list))"
   ]
  },
  {
   "cell_type": "code",
   "execution_count": 15,
   "id": "a0caf867",
   "metadata": {
    "id": "a0caf867"
   },
   "outputs": [],
   "source": [
    "#adjacency dictionary\n",
    "adj_dict = df_pair.groupby('county')['adj_county'].apply(list).to_dict()"
   ]
  },
  {
   "cell_type": "markdown",
   "id": "b0fed6d1",
   "metadata": {
    "id": "b0fed6d1"
   },
   "source": [
    "### Creating All Possible Adjacent Pairs"
   ]
  },
  {
   "cell_type": "code",
   "execution_count": 16,
   "id": "7024d194",
   "metadata": {
    "id": "7024d194"
   },
   "outputs": [],
   "source": [
    "pair_temp = []\n",
    "sorted_pair_temp = []\n",
    "start_county = []\n",
    "end_county = []\n",
    "for i in counties:\n",
    "    for p in adj_dict[i]:\n",
    "       pair_temp.append(i+p)\n",
    "       sorted_pair_temp.append(sorted(i+p))\n",
    "       start_county.append(i)\n",
    "       end_county.append(p)\n",
    "d = {'pair_list':pair_temp,'sorted':sorted_pair_temp,\"start\":start_county,\"end\":end_county}\n",
    "df = pd.DataFrame(d)\n",
    "key_list = df.sorted.drop_duplicates().keys()\n",
    "pair_list = df.pair_list[key_list]\n",
    "start_list = df.start[key_list]\n",
    "end_list = df.end[key_list]"
   ]
  },
  {
   "cell_type": "markdown",
   "id": "8eef24ea",
   "metadata": {
    "id": "8eef24ea"
   },
   "source": [
    "### Creating a dataframe of each pair within each district layer"
   ]
  },
  {
   "cell_type": "code",
   "execution_count": 17,
   "id": "0a806aeb",
   "metadata": {
    "id": "0a806aeb"
   },
   "outputs": [],
   "source": [
    "#this will help built the constraint a little quicker, so doing this here and now\n",
    "pair_list2  = [(p,d) for p in pair_list for d in district]\n",
    "start_list2  = [(s,d) for s in start_list for d in district]\n",
    "end_list2  = [(e,d) for e in end_list for d in district]\n",
    "d2 = {'pair_list':pair_list2,'start':start_list2,\"end\":end_list2}\n",
    "df2 = pd.DataFrame(d2)"
   ]
  },
  {
   "cell_type": "markdown",
   "id": "8f5c5613",
   "metadata": {
    "id": "8f5c5613"
   },
   "source": [
    "### Establishing Variables"
   ]
  },
  {
   "cell_type": "code",
   "execution_count": 18,
   "id": "a5293064",
   "metadata": {
    "id": "a5293064"
   },
   "outputs": [],
   "source": [
    "#establish county/district variables\n",
    "county_district = LpVariable.dicts(\"xij\",[(c,d) for c in counties for d in district],0,1,cat=\"Integer\")\n",
    "adj_pair = LpVariable.dicts(\"xprime\",[p for p in pair_list],0,1,cat=\"Integer\")"
   ]
  },
  {
   "cell_type": "markdown",
   "id": "aa25362c",
   "metadata": {
    "id": "aa25362c"
   },
   "source": [
    "### Objective Function"
   ]
  },
  {
   "cell_type": "code",
   "execution_count": 19,
   "id": "ddecd890",
   "metadata": {
    "id": "ddecd890"
   },
   "outputs": [],
   "source": [
    "#setting up problem\n",
    "prob = LpProblem(\"problem\",LpMinimize)\n",
    "prob += lpSum([adj_pair[i] for i in adj_pair])"
   ]
  },
  {
   "cell_type": "markdown",
   "id": "f07390d5",
   "metadata": {
    "id": "f07390d5"
   },
   "source": [
    "### Establishing constraints"
   ]
  },
  {
   "cell_type": "code",
   "execution_count": 20,
   "id": "da22b7cf",
   "metadata": {
    "id": "da22b7cf"
   },
   "outputs": [],
   "source": [
    "#making sure each county is assigned to one and only one district\n",
    "for c in counties:\n",
    "    prob += lpSum([county_district[(c,d)] for d in district]) == 1\n",
    "\n",
    "#making sure each county is assigned to one and only one district\n",
    "    #prob += lpSum([county_district[(c,0)]*pre_asign_dict[c] for c in counties]) == 1\n",
    "\n",
    "#setting up constraints on max population in each district\n",
    "for d in district:\n",
    "    prob += lpSum([county_district[(i,d)] * pop[i] for i in counties]) <= pop_max\n",
    "    \n",
    "#setting up constraints on min population in each district\n",
    "for d in district:\n",
    "    prob += lpSum([county_district[(i,d)] * pop[i] for i in counties]) >= pop_min\n",
    "\n",
    "#cut edge variables\n",
    "for i in range(len(pair_list2)):\n",
    "    prob += adj_pair[list(adj_pair)[math.ceil(i/num_leg_districits)-1]] >= county_district[start_list2[i]] - county_district[end_list2[i]]\n",
    "\n",
    "for i in range(len(pair_list2)):\n",
    "    prob += adj_pair[list(adj_pair)[math.ceil(i/num_leg_districits)-1]] >= county_district[end_list2[i]] - county_district[start_list2[i]]\n",
    "    \n",
    "#mandating adjacency:\n",
    "for d in district:\n",
    "    #prob += county_district[\"Atlantic\",d] <= county_district[\"Burlington\",d] + county_district[\"Camden\",d] + county_district[\"Cape\",d]  + county_district[\"Cumberland\",d] + county_district[\"Gloucester\",d] + county_district[\"Ocean\",d]\n",
    "    #prob += county_district[\"Burlington\",d] <= county_district[\"Atlantic\",d] + county_district[\"Camden\",d] + county_district[\"Mercer\",d]  + county_district[\"Monmouth\",d] + county_district[\"Ocean\",d] \n",
    "    #prob += county_district[\"Camden\",d] <= county_district[\"Burlington\",d] + county_district[\"Atlantic\",d] + county_district[\"Gloucester\",d]\n",
    "    #prob += county_district[\"Cape\",d] <= county_district[\"Cumberland\",d] + county_district[\"Atlantic\",d]\n",
    "    #prob += county_district[\"Cumberland\",d] <= county_district[\"Salem\",d] + county_district[\"Gloucester\",d] + county_district[\"Atlantic\",d] + county_district[\"Cape\",d] \n",
    "    #prob += county_district[\"Gloucester\",d] <= county_district[\"Salem\",d] + county_district[\"Cumberland\",d] + county_district[\"Atlantic\",d] + county_district[\"Camden\",d]\n",
    "    prob += county_district[\"Hunterdon\",d] <= county_district[\"Warren\",d] + county_district[\"Morris\",d] + county_district[\"Somerset\",d]\n",
    "    #prob += county_district[\"Mercer\",d] <= + county_district[\"Hunterdon\",d] + county_district[\"Middlesex\",d] + county_district[\"Somerset\",d] \n",
    "    #prob += county_district[\"Monmouth\",d] <= county_district[\"Burlington\",d] + county_district[\"Mercer\",d] + county_district[\"Middlesex\",d] + county_district[\"Ocean\",d] \n",
    "    prob += county_district[\"Morris\",d] <= county_district[\"Essex\",d] + county_district[\"Hunterdon\",d] + county_district[\"Passaic\",d] + county_district[\"Somerset\",d] + county_district[\"Sussex\",d] + county_district[\"Union\",d] + county_district[\"Warren\",d] \n",
    "    #prob += county_district[\"Ocean\",d] <= county_district[\"Atlantic\",d] + county_district[\"Burlington\",d] + county_district[\"Monmouth\",d]\n",
    "    prob += county_district[\"Passaic\",d] <= county_district[\"Bergen\",d] + county_district[\"Essex\",d] + county_district[\"Morris\",d] + county_district[\"Sussex\",d]\n",
    "    #prob += county_district[\"Salem\",d] <= county_district[\"Gloucester\",d] + county_district[\"Cumberland\",d]  \n",
    "    prob += county_district[\"Somerset\",d] <= county_district[\"Hunterdon\",d]  + county_district[\"Morris\",d] + county_district[\"Union\",d]\n",
    "    prob += county_district[\"Sussex\",d] <= county_district[\"Morris\",d] + county_district[\"Passaic\",d] + county_district[\"Warren\",d]                 \n",
    "    prob += county_district[\"Union\",d] <= county_district[\"Essex\",d] + county_district[\"Hudson\",d] + county_district[\"Morris\",d] + county_district[\"Somerset\",d]    \n",
    "    prob += county_district[\"Warren\",d] <= county_district[\"Hunterdon\",d] + county_district[\"Morris\",d] + county_district[\"Sussex\",d]"
   ]
  },
  {
   "cell_type": "markdown",
   "id": "7bd69b6b",
   "metadata": {
    "id": "7bd69b6b"
   },
   "source": [
    "### Solve"
   ]
  },
  {
   "cell_type": "code",
   "execution_count": 21,
   "id": "52e37230",
   "metadata": {},
   "outputs": [
    {
     "data": {
      "text/plain": [
       "array(['Bergen', 'Essex', 'Hudson', 'Hunterdon', 'Morris', 'Passaic',\n",
       "       'Somerset', 'Sussex', 'Union', 'Warren'], dtype=object)"
      ]
     },
     "execution_count": 21,
     "metadata": {},
     "output_type": "execute_result"
    }
   ],
   "source": [
    "counties"
   ]
  },
  {
   "cell_type": "code",
   "execution_count": 22,
   "id": "109cb847",
   "metadata": {
    "colab": {
     "base_uri": "https://localhost:8080/"
    },
    "id": "109cb847",
    "outputId": "9467c2e1-db9e-432d-f81a-934e5aa51e71"
   },
   "outputs": [
    {
     "data": {
      "text/plain": [
       "1"
      ]
     },
     "execution_count": 22,
     "metadata": {},
     "output_type": "execute_result"
    }
   ],
   "source": [
    "prob.solve()"
   ]
  },
  {
   "cell_type": "markdown",
   "id": "83f15e3a",
   "metadata": {
    "id": "83f15e3a"
   },
   "source": [
    "### Show the Assignment of County to Legislative District"
   ]
  },
  {
   "cell_type": "code",
   "execution_count": 23,
   "id": "5e6afc0e",
   "metadata": {
    "id": "5e6afc0e"
   },
   "outputs": [],
   "source": [
    "assignment_list = []\n",
    "assignment_county = []\n",
    "assignment_district = []\n",
    "assignment_pop = []\n",
    "for i in county_district:\n",
    "    assignment_list.append(county_district[i].varValue)\n",
    "for c in counties:\n",
    "    for j in district:\n",
    "        assignment_county.append(c)\n",
    "        assignment_district.append(j)\n",
    "        assignment_pop.append(pop[c])\n",
    "d3 = {\"County\":assignment_county, \"Legislative_District\": assignment_district, \"assignment_list\": assignment_list, \"pop\": assignment_pop}\n",
    "df3 = pd.DataFrame(d3)\n",
    "df3 = df3[df3['assignment_list'] == 1]"
   ]
  },
  {
   "cell_type": "code",
   "execution_count": 24,
   "id": "33c06637",
   "metadata": {
    "colab": {
     "base_uri": "https://localhost:8080/",
     "height": 143
    },
    "id": "33c06637",
    "outputId": "537828fa-e9a2-478d-f6e4-ebabf1c22624"
   },
   "outputs": [
    {
     "data": {
      "text/html": [
       "<div>\n",
       "<style scoped>\n",
       "    .dataframe tbody tr th:only-of-type {\n",
       "        vertical-align: middle;\n",
       "    }\n",
       "\n",
       "    .dataframe tbody tr th {\n",
       "        vertical-align: top;\n",
       "    }\n",
       "\n",
       "    .dataframe thead th {\n",
       "        text-align: right;\n",
       "    }\n",
       "</style>\n",
       "<table border=\"1\" class=\"dataframe\">\n",
       "  <thead>\n",
       "    <tr style=\"text-align: right;\">\n",
       "      <th></th>\n",
       "      <th>Legislative_District</th>\n",
       "      <th>County</th>\n",
       "    </tr>\n",
       "  </thead>\n",
       "  <tbody>\n",
       "    <tr>\n",
       "      <th>0</th>\n",
       "      <td>0</td>\n",
       "      <td>Essex</td>\n",
       "    </tr>\n",
       "    <tr>\n",
       "      <th>1</th>\n",
       "      <td>1</td>\n",
       "      <td>Somerset Union</td>\n",
       "    </tr>\n",
       "    <tr>\n",
       "      <th>2</th>\n",
       "      <td>2</td>\n",
       "      <td>Hudson</td>\n",
       "    </tr>\n",
       "    <tr>\n",
       "      <th>3</th>\n",
       "      <td>3</td>\n",
       "      <td>Hunterdon Morris Warren</td>\n",
       "    </tr>\n",
       "    <tr>\n",
       "      <th>4</th>\n",
       "      <td>4</td>\n",
       "      <td>Bergen</td>\n",
       "    </tr>\n",
       "    <tr>\n",
       "      <th>5</th>\n",
       "      <td>5</td>\n",
       "      <td>Passaic Sussex</td>\n",
       "    </tr>\n",
       "  </tbody>\n",
       "</table>\n",
       "</div>"
      ],
      "text/plain": [
       "   Legislative_District                   County\n",
       "0                     0                    Essex\n",
       "1                     1           Somerset Union\n",
       "2                     2                   Hudson\n",
       "3                     3  Hunterdon Morris Warren\n",
       "4                     4                   Bergen\n",
       "5                     5           Passaic Sussex"
      ]
     },
     "execution_count": 24,
     "metadata": {},
     "output_type": "execute_result"
    }
   ],
   "source": [
    "df3.groupby('Legislative_District')['County'].apply(' '.join).reset_index()"
   ]
  },
  {
   "cell_type": "code",
   "execution_count": 25,
   "id": "89f85ad2",
   "metadata": {},
   "outputs": [
    {
     "data": {
      "text/html": [
       "<div>\n",
       "<style scoped>\n",
       "    .dataframe tbody tr th:only-of-type {\n",
       "        vertical-align: middle;\n",
       "    }\n",
       "\n",
       "    .dataframe tbody tr th {\n",
       "        vertical-align: top;\n",
       "    }\n",
       "\n",
       "    .dataframe thead th {\n",
       "        text-align: right;\n",
       "    }\n",
       "</style>\n",
       "<table border=\"1\" class=\"dataframe\">\n",
       "  <thead>\n",
       "    <tr style=\"text-align: right;\">\n",
       "      <th></th>\n",
       "      <th>Legislative_District</th>\n",
       "      <th>pop</th>\n",
       "    </tr>\n",
       "  </thead>\n",
       "  <tbody>\n",
       "    <tr>\n",
       "      <th>0</th>\n",
       "      <td>0</td>\n",
       "      <td>862782</td>\n",
       "    </tr>\n",
       "    <tr>\n",
       "      <th>1</th>\n",
       "      <td>1</td>\n",
       "      <td>920708</td>\n",
       "    </tr>\n",
       "    <tr>\n",
       "      <th>2</th>\n",
       "      <td>2</td>\n",
       "      <td>724857</td>\n",
       "    </tr>\n",
       "    <tr>\n",
       "      <th>3</th>\n",
       "      <td>3</td>\n",
       "      <td>747877</td>\n",
       "    </tr>\n",
       "    <tr>\n",
       "      <th>4</th>\n",
       "      <td>4</td>\n",
       "      <td>955746</td>\n",
       "    </tr>\n",
       "    <tr>\n",
       "      <th>5</th>\n",
       "      <td>5</td>\n",
       "      <td>669283</td>\n",
       "    </tr>\n",
       "  </tbody>\n",
       "</table>\n",
       "</div>"
      ],
      "text/plain": [
       "   Legislative_District     pop\n",
       "0                     0  862782\n",
       "1                     1  920708\n",
       "2                     2  724857\n",
       "3                     3  747877\n",
       "4                     4  955746\n",
       "5                     5  669283"
      ]
     },
     "execution_count": 25,
     "metadata": {},
     "output_type": "execute_result"
    }
   ],
   "source": [
    "df3.groupby('Legislative_District')['pop'].sum().reset_index()"
   ]
  },
  {
   "cell_type": "code",
   "execution_count": 30,
   "id": "e70584d5",
   "metadata": {},
   "outputs": [
    {
     "data": {
      "text/plain": [
       "0.8226777018113997"
      ]
     },
     "execution_count": 30,
     "metadata": {},
     "output_type": "execute_result"
    }
   ],
   "source": [
    "pop_per_rep"
   ]
  },
  {
   "cell_type": "code",
   "execution_count": 27,
   "id": "d6dff33e",
   "metadata": {
    "id": "d6dff33e"
   },
   "outputs": [],
   "source": [
    "df3.to_excel('output_LowerNJ.xlsx')"
   ]
  },
  {
   "cell_type": "markdown",
   "id": "bcb21562",
   "metadata": {
    "id": "3-W9xv7wHJfN"
   },
   "source": [
    "### Check"
   ]
  },
  {
   "cell_type": "code",
   "execution_count": 28,
   "id": "OA0O9NNcG0m0",
   "metadata": {
    "colab": {
     "base_uri": "https://localhost:8080/"
    },
    "id": "OA0O9NNcG0m0",
    "outputId": "8076fc55-e814-4e98-90c6-d5151c596aeb"
   },
   "outputs": [
    {
     "name": "stdout",
     "output_type": "stream",
     "text": [
      "xij_('Bergen',_0): 0\n",
      "xij_('Bergen',_1): 0\n",
      "xij_('Bergen',_2): 0\n",
      "xij_('Bergen',_3): 0\n",
      "xij_('Bergen',_4): 1\n",
      "xij_('Bergen',_5): 0\n",
      "xij_('Essex',_0): 1\n",
      "xij_('Essex',_1): 0\n",
      "xij_('Essex',_2): 0\n",
      "xij_('Essex',_3): 0\n",
      "xij_('Essex',_4): 0\n",
      "xij_('Essex',_5): 0\n",
      "xij_('Hudson',_0): 0\n",
      "xij_('Hudson',_1): 0\n",
      "xij_('Hudson',_2): 1\n",
      "xij_('Hudson',_3): 0\n",
      "xij_('Hudson',_4): 0\n",
      "xij_('Hudson',_5): 0\n",
      "xij_('Hunterdon',_0): 0\n",
      "xij_('Hunterdon',_1): 0\n",
      "xij_('Hunterdon',_2): 0\n",
      "xij_('Hunterdon',_3): 1\n",
      "xij_('Hunterdon',_4): 0\n",
      "xij_('Hunterdon',_5): 0\n",
      "xij_('Morris',_0): 0\n",
      "xij_('Morris',_1): 0\n",
      "xij_('Morris',_2): 0\n",
      "xij_('Morris',_3): 1\n",
      "xij_('Morris',_4): 0\n",
      "xij_('Morris',_5): 0\n",
      "xij_('Passaic',_0): 0\n",
      "xij_('Passaic',_1): 0\n",
      "xij_('Passaic',_2): 0\n",
      "xij_('Passaic',_3): 0\n",
      "xij_('Passaic',_4): 0\n",
      "xij_('Passaic',_5): 1\n",
      "xij_('Somerset',_0): 0\n",
      "xij_('Somerset',_1): 1\n",
      "xij_('Somerset',_2): 0\n",
      "xij_('Somerset',_3): 0\n",
      "xij_('Somerset',_4): 0\n",
      "xij_('Somerset',_5): 0\n",
      "xij_('Sussex',_0): 0\n",
      "xij_('Sussex',_1): 0\n",
      "xij_('Sussex',_2): 0\n",
      "xij_('Sussex',_3): 0\n",
      "xij_('Sussex',_4): 0\n",
      "xij_('Sussex',_5): 1\n",
      "xij_('Union',_0): 0\n",
      "xij_('Union',_1): 1\n",
      "xij_('Union',_2): 0\n",
      "xij_('Union',_3): 0\n",
      "xij_('Union',_4): 0\n",
      "xij_('Union',_5): 0\n",
      "xij_('Warren',_0): 0\n",
      "xij_('Warren',_1): 0\n",
      "xij_('Warren',_2): 0\n",
      "xij_('Warren',_3): 1\n",
      "xij_('Warren',_4): 0\n",
      "xij_('Warren',_5): 0\n",
      "xprime_BergenEssex: 1\n",
      "xprime_BergenHudson: 1\n",
      "xprime_BergenPassaic: 1\n",
      "xprime_EssexHudson: 1\n",
      "xprime_EssexMorris: 1\n",
      "xprime_EssexPassaic: 1\n",
      "xprime_EssexUnion: 1\n",
      "xprime_HudsonUnion: 1\n",
      "xprime_HunterdonMorris: 0\n",
      "xprime_HunterdonSomerset: 1\n",
      "xprime_HunterdonWarren: 0\n",
      "xprime_MorrisPassaic: 1\n",
      "xprime_MorrisSomerset: 1\n",
      "xprime_MorrisSussex: 1\n",
      "xprime_MorrisUnion: 1\n",
      "xprime_MorrisWarren: 0\n",
      "xprime_PassaicSussex: 0\n",
      "xprime_SomersetUnion: 0\n",
      "xprime_SussexWarren: 1\n"
     ]
    }
   ],
   "source": [
    "for variable in prob.variables():\n",
    "    print(f'{variable}: {value(variable.varValue)}')"
   ]
  },
  {
   "cell_type": "code",
   "execution_count": 29,
   "id": "q-JlXNwrHTff",
   "metadata": {
    "colab": {
     "base_uri": "https://localhost:8080/"
    },
    "id": "q-JlXNwrHTff",
    "outputId": "964cc563-5d96-4f3e-c467-de58d4e53859"
   },
   "outputs": [
    {
     "name": "stdout",
     "output_type": "stream",
     "text": [
      "problem:\n",
      "MINIMIZE\n",
      "1*xprime_BergenEssex + 1*xprime_BergenHudson + 1*xprime_BergenPassaic + 1*xprime_EssexHudson + 1*xprime_EssexMorris + 1*xprime_EssexPassaic + 1*xprime_EssexUnion + 1*xprime_HudsonUnion + 1*xprime_HunterdonMorris + 1*xprime_HunterdonSomerset + 1*xprime_HunterdonWarren + 1*xprime_MorrisPassaic + 1*xprime_MorrisSomerset + 1*xprime_MorrisSussex + 1*xprime_MorrisUnion + 1*xprime_MorrisWarren + 1*xprime_PassaicSussex + 1*xprime_SomersetUnion + 1*xprime_SussexWarren + 0\n",
      "SUBJECT TO\n",
      "_C1: xij_('Bergen',_0) + xij_('Bergen',_1) + xij_('Bergen',_2)\n",
      " + xij_('Bergen',_3) + xij_('Bergen',_4) + xij_('Bergen',_5) = 1\n",
      "\n",
      "_C2: xij_('Essex',_0) + xij_('Essex',_1) + xij_('Essex',_2) + xij_('Essex',_3)\n",
      " + xij_('Essex',_4) + xij_('Essex',_5) = 1\n",
      "\n",
      "_C3: xij_('Hudson',_0) + xij_('Hudson',_1) + xij_('Hudson',_2)\n",
      " + xij_('Hudson',_3) + xij_('Hudson',_4) + xij_('Hudson',_5) = 1\n",
      "\n",
      "_C4: xij_('Hunterdon',_0) + xij_('Hunterdon',_1) + xij_('Hunterdon',_2)\n",
      " + xij_('Hunterdon',_3) + xij_('Hunterdon',_4) + xij_('Hunterdon',_5) = 1\n",
      "\n",
      "_C5: xij_('Morris',_0) + xij_('Morris',_1) + xij_('Morris',_2)\n",
      " + xij_('Morris',_3) + xij_('Morris',_4) + xij_('Morris',_5) = 1\n",
      "\n",
      "_C6: xij_('Passaic',_0) + xij_('Passaic',_1) + xij_('Passaic',_2)\n",
      " + xij_('Passaic',_3) + xij_('Passaic',_4) + xij_('Passaic',_5) = 1\n",
      "\n",
      "_C7: xij_('Somerset',_0) + xij_('Somerset',_1) + xij_('Somerset',_2)\n",
      " + xij_('Somerset',_3) + xij_('Somerset',_4) + xij_('Somerset',_5) = 1\n",
      "\n",
      "_C8: xij_('Sussex',_0) + xij_('Sussex',_1) + xij_('Sussex',_2)\n",
      " + xij_('Sussex',_3) + xij_('Sussex',_4) + xij_('Sussex',_5) = 1\n",
      "\n",
      "_C9: xij_('Union',_0) + xij_('Union',_1) + xij_('Union',_2) + xij_('Union',_3)\n",
      " + xij_('Union',_4) + xij_('Union',_5) = 1\n",
      "\n",
      "_C10: xij_('Warren',_0) + xij_('Warren',_1) + xij_('Warren',_2)\n",
      " + xij_('Warren',_3) + xij_('Warren',_4) + xij_('Warren',_5) = 1\n",
      "\n",
      "_C11: 955746 xij_('Bergen',_0) + 862782 xij_('Essex',_0)\n",
      " + 724857 xij_('Hudson',_0) + 128962 xij_('Hunterdon',_0)\n",
      " + 509277 xij_('Morris',_0) + 525052 xij_('Passaic',_0)\n",
      " + 345356 xij_('Somerset',_0) + 144231 xij_('Sussex',_0)\n",
      " + 575352 xij_('Union',_0) + 109638 xij_('Warren',_0) <= 1016927.70833\n",
      "\n",
      "_C12: 955746 xij_('Bergen',_1) + 862782 xij_('Essex',_1)\n",
      " + 724857 xij_('Hudson',_1) + 128962 xij_('Hunterdon',_1)\n",
      " + 509277 xij_('Morris',_1) + 525052 xij_('Passaic',_1)\n",
      " + 345356 xij_('Somerset',_1) + 144231 xij_('Sussex',_1)\n",
      " + 575352 xij_('Union',_1) + 109638 xij_('Warren',_1) <= 1016927.70833\n",
      "\n",
      "_C13: 955746 xij_('Bergen',_2) + 862782 xij_('Essex',_2)\n",
      " + 724857 xij_('Hudson',_2) + 128962 xij_('Hunterdon',_2)\n",
      " + 509277 xij_('Morris',_2) + 525052 xij_('Passaic',_2)\n",
      " + 345356 xij_('Somerset',_2) + 144231 xij_('Sussex',_2)\n",
      " + 575352 xij_('Union',_2) + 109638 xij_('Warren',_2) <= 1016927.70833\n",
      "\n",
      "_C14: 955746 xij_('Bergen',_3) + 862782 xij_('Essex',_3)\n",
      " + 724857 xij_('Hudson',_3) + 128962 xij_('Hunterdon',_3)\n",
      " + 509277 xij_('Morris',_3) + 525052 xij_('Passaic',_3)\n",
      " + 345356 xij_('Somerset',_3) + 144231 xij_('Sussex',_3)\n",
      " + 575352 xij_('Union',_3) + 109638 xij_('Warren',_3) <= 1016927.70833\n",
      "\n",
      "_C15: 955746 xij_('Bergen',_4) + 862782 xij_('Essex',_4)\n",
      " + 724857 xij_('Hudson',_4) + 128962 xij_('Hunterdon',_4)\n",
      " + 509277 xij_('Morris',_4) + 525052 xij_('Passaic',_4)\n",
      " + 345356 xij_('Somerset',_4) + 144231 xij_('Sussex',_4)\n",
      " + 575352 xij_('Union',_4) + 109638 xij_('Warren',_4) <= 1016927.70833\n",
      "\n",
      "_C16: 955746 xij_('Bergen',_5) + 862782 xij_('Essex',_5)\n",
      " + 724857 xij_('Hudson',_5) + 128962 xij_('Hunterdon',_5)\n",
      " + 509277 xij_('Morris',_5) + 525052 xij_('Passaic',_5)\n",
      " + 345356 xij_('Somerset',_5) + 144231 xij_('Sussex',_5)\n",
      " + 575352 xij_('Union',_5) + 109638 xij_('Warren',_5) <= 1016927.70833\n",
      "\n",
      "_C17: 955746 xij_('Bergen',_0) + 862782 xij_('Essex',_0)\n",
      " + 724857 xij_('Hudson',_0) + 128962 xij_('Hunterdon',_0)\n",
      " + 509277 xij_('Morris',_0) + 525052 xij_('Passaic',_0)\n",
      " + 345356 xij_('Somerset',_0) + 144231 xij_('Sussex',_0)\n",
      " + 575352 xij_('Union',_0) + 109638 xij_('Warren',_0) >= 650833.733333\n",
      "\n",
      "_C18: 955746 xij_('Bergen',_1) + 862782 xij_('Essex',_1)\n",
      " + 724857 xij_('Hudson',_1) + 128962 xij_('Hunterdon',_1)\n",
      " + 509277 xij_('Morris',_1) + 525052 xij_('Passaic',_1)\n",
      " + 345356 xij_('Somerset',_1) + 144231 xij_('Sussex',_1)\n",
      " + 575352 xij_('Union',_1) + 109638 xij_('Warren',_1) >= 650833.733333\n",
      "\n",
      "_C19: 955746 xij_('Bergen',_2) + 862782 xij_('Essex',_2)\n",
      " + 724857 xij_('Hudson',_2) + 128962 xij_('Hunterdon',_2)\n",
      " + 509277 xij_('Morris',_2) + 525052 xij_('Passaic',_2)\n",
      " + 345356 xij_('Somerset',_2) + 144231 xij_('Sussex',_2)\n",
      " + 575352 xij_('Union',_2) + 109638 xij_('Warren',_2) >= 650833.733333\n",
      "\n",
      "_C20: 955746 xij_('Bergen',_3) + 862782 xij_('Essex',_3)\n",
      " + 724857 xij_('Hudson',_3) + 128962 xij_('Hunterdon',_3)\n",
      " + 509277 xij_('Morris',_3) + 525052 xij_('Passaic',_3)\n",
      " + 345356 xij_('Somerset',_3) + 144231 xij_('Sussex',_3)\n",
      " + 575352 xij_('Union',_3) + 109638 xij_('Warren',_3) >= 650833.733333\n",
      "\n",
      "_C21: 955746 xij_('Bergen',_4) + 862782 xij_('Essex',_4)\n",
      " + 724857 xij_('Hudson',_4) + 128962 xij_('Hunterdon',_4)\n",
      " + 509277 xij_('Morris',_4) + 525052 xij_('Passaic',_4)\n",
      " + 345356 xij_('Somerset',_4) + 144231 xij_('Sussex',_4)\n",
      " + 575352 xij_('Union',_4) + 109638 xij_('Warren',_4) >= 650833.733333\n",
      "\n",
      "_C22: 955746 xij_('Bergen',_5) + 862782 xij_('Essex',_5)\n",
      " + 724857 xij_('Hudson',_5) + 128962 xij_('Hunterdon',_5)\n",
      " + 509277 xij_('Morris',_5) + 525052 xij_('Passaic',_5)\n",
      " + 345356 xij_('Somerset',_5) + 144231 xij_('Sussex',_5)\n",
      " + 575352 xij_('Union',_5) + 109638 xij_('Warren',_5) >= 650833.733333\n",
      "\n",
      "_C23: - xij_('Bergen',_0) + xij_('Essex',_0) + xprime_SussexWarren >= 0\n",
      "\n",
      "_C24: - xij_('Bergen',_1) + xij_('Essex',_1) + xprime_BergenEssex >= 0\n",
      "\n",
      "_C25: - xij_('Bergen',_2) + xij_('Essex',_2) + xprime_BergenEssex >= 0\n",
      "\n",
      "_C26: - xij_('Bergen',_3) + xij_('Essex',_3) + xprime_BergenEssex >= 0\n",
      "\n",
      "_C27: - xij_('Bergen',_4) + xij_('Essex',_4) + xprime_BergenEssex >= 0\n",
      "\n",
      "_C28: - xij_('Bergen',_5) + xij_('Essex',_5) + xprime_BergenEssex >= 0\n",
      "\n",
      "_C29: - xij_('Bergen',_0) + xij_('Hudson',_0) + xprime_BergenEssex >= 0\n",
      "\n",
      "_C30: - xij_('Bergen',_1) + xij_('Hudson',_1) + xprime_BergenHudson >= 0\n",
      "\n",
      "_C31: - xij_('Bergen',_2) + xij_('Hudson',_2) + xprime_BergenHudson >= 0\n",
      "\n",
      "_C32: - xij_('Bergen',_3) + xij_('Hudson',_3) + xprime_BergenHudson >= 0\n",
      "\n",
      "_C33: - xij_('Bergen',_4) + xij_('Hudson',_4) + xprime_BergenHudson >= 0\n",
      "\n",
      "_C34: - xij_('Bergen',_5) + xij_('Hudson',_5) + xprime_BergenHudson >= 0\n",
      "\n",
      "_C35: - xij_('Bergen',_0) + xij_('Passaic',_0) + xprime_BergenHudson >= 0\n",
      "\n",
      "_C36: - xij_('Bergen',_1) + xij_('Passaic',_1) + xprime_BergenPassaic >= 0\n",
      "\n",
      "_C37: - xij_('Bergen',_2) + xij_('Passaic',_2) + xprime_BergenPassaic >= 0\n",
      "\n",
      "_C38: - xij_('Bergen',_3) + xij_('Passaic',_3) + xprime_BergenPassaic >= 0\n",
      "\n",
      "_C39: - xij_('Bergen',_4) + xij_('Passaic',_4) + xprime_BergenPassaic >= 0\n",
      "\n",
      "_C40: - xij_('Bergen',_5) + xij_('Passaic',_5) + xprime_BergenPassaic >= 0\n",
      "\n",
      "_C41: - xij_('Essex',_0) + xij_('Hudson',_0) + xprime_BergenPassaic >= 0\n",
      "\n",
      "_C42: - xij_('Essex',_1) + xij_('Hudson',_1) + xprime_EssexHudson >= 0\n",
      "\n",
      "_C43: - xij_('Essex',_2) + xij_('Hudson',_2) + xprime_EssexHudson >= 0\n",
      "\n",
      "_C44: - xij_('Essex',_3) + xij_('Hudson',_3) + xprime_EssexHudson >= 0\n",
      "\n",
      "_C45: - xij_('Essex',_4) + xij_('Hudson',_4) + xprime_EssexHudson >= 0\n",
      "\n",
      "_C46: - xij_('Essex',_5) + xij_('Hudson',_5) + xprime_EssexHudson >= 0\n",
      "\n",
      "_C47: - xij_('Essex',_0) + xij_('Morris',_0) + xprime_EssexHudson >= 0\n",
      "\n",
      "_C48: - xij_('Essex',_1) + xij_('Morris',_1) + xprime_EssexMorris >= 0\n",
      "\n",
      "_C49: - xij_('Essex',_2) + xij_('Morris',_2) + xprime_EssexMorris >= 0\n",
      "\n",
      "_C50: - xij_('Essex',_3) + xij_('Morris',_3) + xprime_EssexMorris >= 0\n",
      "\n",
      "_C51: - xij_('Essex',_4) + xij_('Morris',_4) + xprime_EssexMorris >= 0\n",
      "\n",
      "_C52: - xij_('Essex',_5) + xij_('Morris',_5) + xprime_EssexMorris >= 0\n",
      "\n",
      "_C53: - xij_('Essex',_0) + xij_('Passaic',_0) + xprime_EssexMorris >= 0\n",
      "\n",
      "_C54: - xij_('Essex',_1) + xij_('Passaic',_1) + xprime_EssexPassaic >= 0\n",
      "\n",
      "_C55: - xij_('Essex',_2) + xij_('Passaic',_2) + xprime_EssexPassaic >= 0\n",
      "\n",
      "_C56: - xij_('Essex',_3) + xij_('Passaic',_3) + xprime_EssexPassaic >= 0\n",
      "\n",
      "_C57: - xij_('Essex',_4) + xij_('Passaic',_4) + xprime_EssexPassaic >= 0\n",
      "\n",
      "_C58: - xij_('Essex',_5) + xij_('Passaic',_5) + xprime_EssexPassaic >= 0\n",
      "\n",
      "_C59: - xij_('Essex',_0) + xij_('Union',_0) + xprime_EssexPassaic >= 0\n",
      "\n",
      "_C60: - xij_('Essex',_1) + xij_('Union',_1) + xprime_EssexUnion >= 0\n",
      "\n",
      "_C61: - xij_('Essex',_2) + xij_('Union',_2) + xprime_EssexUnion >= 0\n",
      "\n",
      "_C62: - xij_('Essex',_3) + xij_('Union',_3) + xprime_EssexUnion >= 0\n",
      "\n",
      "_C63: - xij_('Essex',_4) + xij_('Union',_4) + xprime_EssexUnion >= 0\n",
      "\n",
      "_C64: - xij_('Essex',_5) + xij_('Union',_5) + xprime_EssexUnion >= 0\n",
      "\n",
      "_C65: - xij_('Hudson',_0) + xij_('Union',_0) + xprime_EssexUnion >= 0\n",
      "\n",
      "_C66: - xij_('Hudson',_1) + xij_('Union',_1) + xprime_HudsonUnion >= 0\n",
      "\n",
      "_C67: - xij_('Hudson',_2) + xij_('Union',_2) + xprime_HudsonUnion >= 0\n",
      "\n",
      "_C68: - xij_('Hudson',_3) + xij_('Union',_3) + xprime_HudsonUnion >= 0\n",
      "\n",
      "_C69: - xij_('Hudson',_4) + xij_('Union',_4) + xprime_HudsonUnion >= 0\n",
      "\n",
      "_C70: - xij_('Hudson',_5) + xij_('Union',_5) + xprime_HudsonUnion >= 0\n",
      "\n",
      "_C71: - xij_('Hunterdon',_0) + xij_('Morris',_0) + xprime_HudsonUnion >= 0\n",
      "\n",
      "_C72: - xij_('Hunterdon',_1) + xij_('Morris',_1) + xprime_HunterdonMorris >= 0\n",
      "\n",
      "_C73: - xij_('Hunterdon',_2) + xij_('Morris',_2) + xprime_HunterdonMorris >= 0\n",
      "\n",
      "_C74: - xij_('Hunterdon',_3) + xij_('Morris',_3) + xprime_HunterdonMorris >= 0\n",
      "\n",
      "_C75: - xij_('Hunterdon',_4) + xij_('Morris',_4) + xprime_HunterdonMorris >= 0\n",
      "\n",
      "_C76: - xij_('Hunterdon',_5) + xij_('Morris',_5) + xprime_HunterdonMorris >= 0\n",
      "\n",
      "_C77: - xij_('Hunterdon',_0) + xij_('Somerset',_0) + xprime_HunterdonMorris\n",
      " >= 0\n",
      "\n",
      "_C78: - xij_('Hunterdon',_1) + xij_('Somerset',_1) + xprime_HunterdonSomerset\n",
      " >= 0\n",
      "\n",
      "_C79: - xij_('Hunterdon',_2) + xij_('Somerset',_2) + xprime_HunterdonSomerset\n",
      " >= 0\n",
      "\n",
      "_C80: - xij_('Hunterdon',_3) + xij_('Somerset',_3) + xprime_HunterdonSomerset\n",
      " >= 0\n",
      "\n",
      "_C81: - xij_('Hunterdon',_4) + xij_('Somerset',_4) + xprime_HunterdonSomerset\n",
      " >= 0\n",
      "\n",
      "_C82: - xij_('Hunterdon',_5) + xij_('Somerset',_5) + xprime_HunterdonSomerset\n",
      " >= 0\n",
      "\n",
      "_C83: - xij_('Hunterdon',_0) + xij_('Warren',_0) + xprime_HunterdonSomerset\n",
      " >= 0\n",
      "\n",
      "_C84: - xij_('Hunterdon',_1) + xij_('Warren',_1) + xprime_HunterdonWarren >= 0\n",
      "\n",
      "_C85: - xij_('Hunterdon',_2) + xij_('Warren',_2) + xprime_HunterdonWarren >= 0\n",
      "\n",
      "_C86: - xij_('Hunterdon',_3) + xij_('Warren',_3) + xprime_HunterdonWarren >= 0\n",
      "\n",
      "_C87: - xij_('Hunterdon',_4) + xij_('Warren',_4) + xprime_HunterdonWarren >= 0\n",
      "\n",
      "_C88: - xij_('Hunterdon',_5) + xij_('Warren',_5) + xprime_HunterdonWarren >= 0\n",
      "\n",
      "_C89: - xij_('Morris',_0) + xij_('Passaic',_0) + xprime_HunterdonWarren >= 0\n",
      "\n",
      "_C90: - xij_('Morris',_1) + xij_('Passaic',_1) + xprime_MorrisPassaic >= 0\n",
      "\n",
      "_C91: - xij_('Morris',_2) + xij_('Passaic',_2) + xprime_MorrisPassaic >= 0\n",
      "\n",
      "_C92: - xij_('Morris',_3) + xij_('Passaic',_3) + xprime_MorrisPassaic >= 0\n",
      "\n",
      "_C93: - xij_('Morris',_4) + xij_('Passaic',_4) + xprime_MorrisPassaic >= 0\n",
      "\n",
      "_C94: - xij_('Morris',_5) + xij_('Passaic',_5) + xprime_MorrisPassaic >= 0\n",
      "\n",
      "_C95: - xij_('Morris',_0) + xij_('Somerset',_0) + xprime_MorrisPassaic >= 0\n",
      "\n",
      "_C96: - xij_('Morris',_1) + xij_('Somerset',_1) + xprime_MorrisSomerset >= 0\n",
      "\n",
      "_C97: - xij_('Morris',_2) + xij_('Somerset',_2) + xprime_MorrisSomerset >= 0\n",
      "\n",
      "_C98: - xij_('Morris',_3) + xij_('Somerset',_3) + xprime_MorrisSomerset >= 0\n",
      "\n",
      "_C99: - xij_('Morris',_4) + xij_('Somerset',_4) + xprime_MorrisSomerset >= 0\n",
      "\n",
      "_C100: - xij_('Morris',_5) + xij_('Somerset',_5) + xprime_MorrisSomerset >= 0\n",
      "\n",
      "_C101: - xij_('Morris',_0) + xij_('Sussex',_0) + xprime_MorrisSomerset >= 0\n",
      "\n",
      "_C102: - xij_('Morris',_1) + xij_('Sussex',_1) + xprime_MorrisSussex >= 0\n",
      "\n",
      "_C103: - xij_('Morris',_2) + xij_('Sussex',_2) + xprime_MorrisSussex >= 0\n",
      "\n",
      "_C104: - xij_('Morris',_3) + xij_('Sussex',_3) + xprime_MorrisSussex >= 0\n",
      "\n",
      "_C105: - xij_('Morris',_4) + xij_('Sussex',_4) + xprime_MorrisSussex >= 0\n",
      "\n",
      "_C106: - xij_('Morris',_5) + xij_('Sussex',_5) + xprime_MorrisSussex >= 0\n",
      "\n",
      "_C107: - xij_('Morris',_0) + xij_('Union',_0) + xprime_MorrisSussex >= 0\n",
      "\n",
      "_C108: - xij_('Morris',_1) + xij_('Union',_1) + xprime_MorrisUnion >= 0\n",
      "\n",
      "_C109: - xij_('Morris',_2) + xij_('Union',_2) + xprime_MorrisUnion >= 0\n",
      "\n",
      "_C110: - xij_('Morris',_3) + xij_('Union',_3) + xprime_MorrisUnion >= 0\n",
      "\n",
      "_C111: - xij_('Morris',_4) + xij_('Union',_4) + xprime_MorrisUnion >= 0\n",
      "\n",
      "_C112: - xij_('Morris',_5) + xij_('Union',_5) + xprime_MorrisUnion >= 0\n",
      "\n",
      "_C113: - xij_('Morris',_0) + xij_('Warren',_0) + xprime_MorrisUnion >= 0\n",
      "\n",
      "_C114: - xij_('Morris',_1) + xij_('Warren',_1) + xprime_MorrisWarren >= 0\n",
      "\n",
      "_C115: - xij_('Morris',_2) + xij_('Warren',_2) + xprime_MorrisWarren >= 0\n",
      "\n",
      "_C116: - xij_('Morris',_3) + xij_('Warren',_3) + xprime_MorrisWarren >= 0\n",
      "\n",
      "_C117: - xij_('Morris',_4) + xij_('Warren',_4) + xprime_MorrisWarren >= 0\n",
      "\n",
      "_C118: - xij_('Morris',_5) + xij_('Warren',_5) + xprime_MorrisWarren >= 0\n",
      "\n",
      "_C119: - xij_('Passaic',_0) + xij_('Sussex',_0) + xprime_MorrisWarren >= 0\n",
      "\n",
      "_C120: - xij_('Passaic',_1) + xij_('Sussex',_1) + xprime_PassaicSussex >= 0\n",
      "\n",
      "_C121: - xij_('Passaic',_2) + xij_('Sussex',_2) + xprime_PassaicSussex >= 0\n",
      "\n",
      "_C122: - xij_('Passaic',_3) + xij_('Sussex',_3) + xprime_PassaicSussex >= 0\n",
      "\n",
      "_C123: - xij_('Passaic',_4) + xij_('Sussex',_4) + xprime_PassaicSussex >= 0\n",
      "\n",
      "_C124: - xij_('Passaic',_5) + xij_('Sussex',_5) + xprime_PassaicSussex >= 0\n",
      "\n",
      "_C125: - xij_('Somerset',_0) + xij_('Union',_0) + xprime_PassaicSussex >= 0\n",
      "\n",
      "_C126: - xij_('Somerset',_1) + xij_('Union',_1) + xprime_SomersetUnion >= 0\n",
      "\n",
      "_C127: - xij_('Somerset',_2) + xij_('Union',_2) + xprime_SomersetUnion >= 0\n",
      "\n",
      "_C128: - xij_('Somerset',_3) + xij_('Union',_3) + xprime_SomersetUnion >= 0\n",
      "\n",
      "_C129: - xij_('Somerset',_4) + xij_('Union',_4) + xprime_SomersetUnion >= 0\n",
      "\n",
      "_C130: - xij_('Somerset',_5) + xij_('Union',_5) + xprime_SomersetUnion >= 0\n",
      "\n",
      "_C131: - xij_('Sussex',_0) + xij_('Warren',_0) + xprime_SomersetUnion >= 0\n",
      "\n",
      "_C132: - xij_('Sussex',_1) + xij_('Warren',_1) + xprime_SussexWarren >= 0\n",
      "\n",
      "_C133: - xij_('Sussex',_2) + xij_('Warren',_2) + xprime_SussexWarren >= 0\n",
      "\n",
      "_C134: - xij_('Sussex',_3) + xij_('Warren',_3) + xprime_SussexWarren >= 0\n",
      "\n",
      "_C135: - xij_('Sussex',_4) + xij_('Warren',_4) + xprime_SussexWarren >= 0\n",
      "\n",
      "_C136: - xij_('Sussex',_5) + xij_('Warren',_5) + xprime_SussexWarren >= 0\n",
      "\n",
      "_C137: xij_('Bergen',_0) - xij_('Essex',_0) + xprime_SussexWarren >= 0\n",
      "\n",
      "_C138: xij_('Bergen',_1) - xij_('Essex',_1) + xprime_BergenEssex >= 0\n",
      "\n",
      "_C139: xij_('Bergen',_2) - xij_('Essex',_2) + xprime_BergenEssex >= 0\n",
      "\n",
      "_C140: xij_('Bergen',_3) - xij_('Essex',_3) + xprime_BergenEssex >= 0\n",
      "\n",
      "_C141: xij_('Bergen',_4) - xij_('Essex',_4) + xprime_BergenEssex >= 0\n",
      "\n",
      "_C142: xij_('Bergen',_5) - xij_('Essex',_5) + xprime_BergenEssex >= 0\n",
      "\n",
      "_C143: xij_('Bergen',_0) - xij_('Hudson',_0) + xprime_BergenEssex >= 0\n",
      "\n",
      "_C144: xij_('Bergen',_1) - xij_('Hudson',_1) + xprime_BergenHudson >= 0\n",
      "\n",
      "_C145: xij_('Bergen',_2) - xij_('Hudson',_2) + xprime_BergenHudson >= 0\n",
      "\n",
      "_C146: xij_('Bergen',_3) - xij_('Hudson',_3) + xprime_BergenHudson >= 0\n",
      "\n",
      "_C147: xij_('Bergen',_4) - xij_('Hudson',_4) + xprime_BergenHudson >= 0\n",
      "\n",
      "_C148: xij_('Bergen',_5) - xij_('Hudson',_5) + xprime_BergenHudson >= 0\n",
      "\n",
      "_C149: xij_('Bergen',_0) - xij_('Passaic',_0) + xprime_BergenHudson >= 0\n",
      "\n",
      "_C150: xij_('Bergen',_1) - xij_('Passaic',_1) + xprime_BergenPassaic >= 0\n",
      "\n",
      "_C151: xij_('Bergen',_2) - xij_('Passaic',_2) + xprime_BergenPassaic >= 0\n",
      "\n",
      "_C152: xij_('Bergen',_3) - xij_('Passaic',_3) + xprime_BergenPassaic >= 0\n",
      "\n",
      "_C153: xij_('Bergen',_4) - xij_('Passaic',_4) + xprime_BergenPassaic >= 0\n",
      "\n",
      "_C154: xij_('Bergen',_5) - xij_('Passaic',_5) + xprime_BergenPassaic >= 0\n",
      "\n",
      "_C155: xij_('Essex',_0) - xij_('Hudson',_0) + xprime_BergenPassaic >= 0\n",
      "\n",
      "_C156: xij_('Essex',_1) - xij_('Hudson',_1) + xprime_EssexHudson >= 0\n",
      "\n",
      "_C157: xij_('Essex',_2) - xij_('Hudson',_2) + xprime_EssexHudson >= 0\n",
      "\n",
      "_C158: xij_('Essex',_3) - xij_('Hudson',_3) + xprime_EssexHudson >= 0\n",
      "\n",
      "_C159: xij_('Essex',_4) - xij_('Hudson',_4) + xprime_EssexHudson >= 0\n",
      "\n",
      "_C160: xij_('Essex',_5) - xij_('Hudson',_5) + xprime_EssexHudson >= 0\n",
      "\n",
      "_C161: xij_('Essex',_0) - xij_('Morris',_0) + xprime_EssexHudson >= 0\n",
      "\n",
      "_C162: xij_('Essex',_1) - xij_('Morris',_1) + xprime_EssexMorris >= 0\n",
      "\n",
      "_C163: xij_('Essex',_2) - xij_('Morris',_2) + xprime_EssexMorris >= 0\n",
      "\n",
      "_C164: xij_('Essex',_3) - xij_('Morris',_3) + xprime_EssexMorris >= 0\n",
      "\n",
      "_C165: xij_('Essex',_4) - xij_('Morris',_4) + xprime_EssexMorris >= 0\n",
      "\n",
      "_C166: xij_('Essex',_5) - xij_('Morris',_5) + xprime_EssexMorris >= 0\n",
      "\n",
      "_C167: xij_('Essex',_0) - xij_('Passaic',_0) + xprime_EssexMorris >= 0\n",
      "\n",
      "_C168: xij_('Essex',_1) - xij_('Passaic',_1) + xprime_EssexPassaic >= 0\n",
      "\n",
      "_C169: xij_('Essex',_2) - xij_('Passaic',_2) + xprime_EssexPassaic >= 0\n",
      "\n",
      "_C170: xij_('Essex',_3) - xij_('Passaic',_3) + xprime_EssexPassaic >= 0\n",
      "\n",
      "_C171: xij_('Essex',_4) - xij_('Passaic',_4) + xprime_EssexPassaic >= 0\n",
      "\n",
      "_C172: xij_('Essex',_5) - xij_('Passaic',_5) + xprime_EssexPassaic >= 0\n",
      "\n",
      "_C173: xij_('Essex',_0) - xij_('Union',_0) + xprime_EssexPassaic >= 0\n",
      "\n",
      "_C174: xij_('Essex',_1) - xij_('Union',_1) + xprime_EssexUnion >= 0\n",
      "\n",
      "_C175: xij_('Essex',_2) - xij_('Union',_2) + xprime_EssexUnion >= 0\n",
      "\n",
      "_C176: xij_('Essex',_3) - xij_('Union',_3) + xprime_EssexUnion >= 0\n",
      "\n",
      "_C177: xij_('Essex',_4) - xij_('Union',_4) + xprime_EssexUnion >= 0\n",
      "\n",
      "_C178: xij_('Essex',_5) - xij_('Union',_5) + xprime_EssexUnion >= 0\n",
      "\n",
      "_C179: xij_('Hudson',_0) - xij_('Union',_0) + xprime_EssexUnion >= 0\n",
      "\n",
      "_C180: xij_('Hudson',_1) - xij_('Union',_1) + xprime_HudsonUnion >= 0\n",
      "\n",
      "_C181: xij_('Hudson',_2) - xij_('Union',_2) + xprime_HudsonUnion >= 0\n",
      "\n",
      "_C182: xij_('Hudson',_3) - xij_('Union',_3) + xprime_HudsonUnion >= 0\n",
      "\n",
      "_C183: xij_('Hudson',_4) - xij_('Union',_4) + xprime_HudsonUnion >= 0\n",
      "\n",
      "_C184: xij_('Hudson',_5) - xij_('Union',_5) + xprime_HudsonUnion >= 0\n",
      "\n",
      "_C185: xij_('Hunterdon',_0) - xij_('Morris',_0) + xprime_HudsonUnion >= 0\n",
      "\n",
      "_C186: xij_('Hunterdon',_1) - xij_('Morris',_1) + xprime_HunterdonMorris >= 0\n",
      "\n",
      "_C187: xij_('Hunterdon',_2) - xij_('Morris',_2) + xprime_HunterdonMorris >= 0\n",
      "\n",
      "_C188: xij_('Hunterdon',_3) - xij_('Morris',_3) + xprime_HunterdonMorris >= 0\n",
      "\n",
      "_C189: xij_('Hunterdon',_4) - xij_('Morris',_4) + xprime_HunterdonMorris >= 0\n",
      "\n",
      "_C190: xij_('Hunterdon',_5) - xij_('Morris',_5) + xprime_HunterdonMorris >= 0\n",
      "\n",
      "_C191: xij_('Hunterdon',_0) - xij_('Somerset',_0) + xprime_HunterdonMorris\n",
      " >= 0\n",
      "\n",
      "_C192: xij_('Hunterdon',_1) - xij_('Somerset',_1) + xprime_HunterdonSomerset\n",
      " >= 0\n",
      "\n",
      "_C193: xij_('Hunterdon',_2) - xij_('Somerset',_2) + xprime_HunterdonSomerset\n",
      " >= 0\n",
      "\n",
      "_C194: xij_('Hunterdon',_3) - xij_('Somerset',_3) + xprime_HunterdonSomerset\n",
      " >= 0\n",
      "\n",
      "_C195: xij_('Hunterdon',_4) - xij_('Somerset',_4) + xprime_HunterdonSomerset\n",
      " >= 0\n",
      "\n",
      "_C196: xij_('Hunterdon',_5) - xij_('Somerset',_5) + xprime_HunterdonSomerset\n",
      " >= 0\n",
      "\n",
      "_C197: xij_('Hunterdon',_0) - xij_('Warren',_0) + xprime_HunterdonSomerset\n",
      " >= 0\n",
      "\n",
      "_C198: xij_('Hunterdon',_1) - xij_('Warren',_1) + xprime_HunterdonWarren >= 0\n",
      "\n",
      "_C199: xij_('Hunterdon',_2) - xij_('Warren',_2) + xprime_HunterdonWarren >= 0\n",
      "\n",
      "_C200: xij_('Hunterdon',_3) - xij_('Warren',_3) + xprime_HunterdonWarren >= 0\n",
      "\n",
      "_C201: xij_('Hunterdon',_4) - xij_('Warren',_4) + xprime_HunterdonWarren >= 0\n",
      "\n",
      "_C202: xij_('Hunterdon',_5) - xij_('Warren',_5) + xprime_HunterdonWarren >= 0\n",
      "\n",
      "_C203: xij_('Morris',_0) - xij_('Passaic',_0) + xprime_HunterdonWarren >= 0\n",
      "\n",
      "_C204: xij_('Morris',_1) - xij_('Passaic',_1) + xprime_MorrisPassaic >= 0\n",
      "\n",
      "_C205: xij_('Morris',_2) - xij_('Passaic',_2) + xprime_MorrisPassaic >= 0\n",
      "\n",
      "_C206: xij_('Morris',_3) - xij_('Passaic',_3) + xprime_MorrisPassaic >= 0\n",
      "\n",
      "_C207: xij_('Morris',_4) - xij_('Passaic',_4) + xprime_MorrisPassaic >= 0\n",
      "\n",
      "_C208: xij_('Morris',_5) - xij_('Passaic',_5) + xprime_MorrisPassaic >= 0\n",
      "\n",
      "_C209: xij_('Morris',_0) - xij_('Somerset',_0) + xprime_MorrisPassaic >= 0\n",
      "\n",
      "_C210: xij_('Morris',_1) - xij_('Somerset',_1) + xprime_MorrisSomerset >= 0\n",
      "\n",
      "_C211: xij_('Morris',_2) - xij_('Somerset',_2) + xprime_MorrisSomerset >= 0\n",
      "\n",
      "_C212: xij_('Morris',_3) - xij_('Somerset',_3) + xprime_MorrisSomerset >= 0\n",
      "\n",
      "_C213: xij_('Morris',_4) - xij_('Somerset',_4) + xprime_MorrisSomerset >= 0\n",
      "\n",
      "_C214: xij_('Morris',_5) - xij_('Somerset',_5) + xprime_MorrisSomerset >= 0\n",
      "\n",
      "_C215: xij_('Morris',_0) - xij_('Sussex',_0) + xprime_MorrisSomerset >= 0\n",
      "\n",
      "_C216: xij_('Morris',_1) - xij_('Sussex',_1) + xprime_MorrisSussex >= 0\n",
      "\n",
      "_C217: xij_('Morris',_2) - xij_('Sussex',_2) + xprime_MorrisSussex >= 0\n",
      "\n",
      "_C218: xij_('Morris',_3) - xij_('Sussex',_3) + xprime_MorrisSussex >= 0\n",
      "\n",
      "_C219: xij_('Morris',_4) - xij_('Sussex',_4) + xprime_MorrisSussex >= 0\n",
      "\n",
      "_C220: xij_('Morris',_5) - xij_('Sussex',_5) + xprime_MorrisSussex >= 0\n",
      "\n",
      "_C221: xij_('Morris',_0) - xij_('Union',_0) + xprime_MorrisSussex >= 0\n",
      "\n",
      "_C222: xij_('Morris',_1) - xij_('Union',_1) + xprime_MorrisUnion >= 0\n",
      "\n",
      "_C223: xij_('Morris',_2) - xij_('Union',_2) + xprime_MorrisUnion >= 0\n",
      "\n",
      "_C224: xij_('Morris',_3) - xij_('Union',_3) + xprime_MorrisUnion >= 0\n",
      "\n",
      "_C225: xij_('Morris',_4) - xij_('Union',_4) + xprime_MorrisUnion >= 0\n",
      "\n",
      "_C226: xij_('Morris',_5) - xij_('Union',_5) + xprime_MorrisUnion >= 0\n",
      "\n",
      "_C227: xij_('Morris',_0) - xij_('Warren',_0) + xprime_MorrisUnion >= 0\n",
      "\n",
      "_C228: xij_('Morris',_1) - xij_('Warren',_1) + xprime_MorrisWarren >= 0\n",
      "\n",
      "_C229: xij_('Morris',_2) - xij_('Warren',_2) + xprime_MorrisWarren >= 0\n",
      "\n",
      "_C230: xij_('Morris',_3) - xij_('Warren',_3) + xprime_MorrisWarren >= 0\n",
      "\n",
      "_C231: xij_('Morris',_4) - xij_('Warren',_4) + xprime_MorrisWarren >= 0\n",
      "\n",
      "_C232: xij_('Morris',_5) - xij_('Warren',_5) + xprime_MorrisWarren >= 0\n",
      "\n",
      "_C233: xij_('Passaic',_0) - xij_('Sussex',_0) + xprime_MorrisWarren >= 0\n",
      "\n",
      "_C234: xij_('Passaic',_1) - xij_('Sussex',_1) + xprime_PassaicSussex >= 0\n",
      "\n",
      "_C235: xij_('Passaic',_2) - xij_('Sussex',_2) + xprime_PassaicSussex >= 0\n",
      "\n",
      "_C236: xij_('Passaic',_3) - xij_('Sussex',_3) + xprime_PassaicSussex >= 0\n",
      "\n",
      "_C237: xij_('Passaic',_4) - xij_('Sussex',_4) + xprime_PassaicSussex >= 0\n",
      "\n",
      "_C238: xij_('Passaic',_5) - xij_('Sussex',_5) + xprime_PassaicSussex >= 0\n",
      "\n",
      "_C239: xij_('Somerset',_0) - xij_('Union',_0) + xprime_PassaicSussex >= 0\n",
      "\n",
      "_C240: xij_('Somerset',_1) - xij_('Union',_1) + xprime_SomersetUnion >= 0\n",
      "\n",
      "_C241: xij_('Somerset',_2) - xij_('Union',_2) + xprime_SomersetUnion >= 0\n",
      "\n",
      "_C242: xij_('Somerset',_3) - xij_('Union',_3) + xprime_SomersetUnion >= 0\n",
      "\n",
      "_C243: xij_('Somerset',_4) - xij_('Union',_4) + xprime_SomersetUnion >= 0\n",
      "\n",
      "_C244: xij_('Somerset',_5) - xij_('Union',_5) + xprime_SomersetUnion >= 0\n",
      "\n",
      "_C245: xij_('Sussex',_0) - xij_('Warren',_0) + xprime_SomersetUnion >= 0\n",
      "\n",
      "_C246: xij_('Sussex',_1) - xij_('Warren',_1) + xprime_SussexWarren >= 0\n",
      "\n",
      "_C247: xij_('Sussex',_2) - xij_('Warren',_2) + xprime_SussexWarren >= 0\n",
      "\n",
      "_C248: xij_('Sussex',_3) - xij_('Warren',_3) + xprime_SussexWarren >= 0\n",
      "\n",
      "_C249: xij_('Sussex',_4) - xij_('Warren',_4) + xprime_SussexWarren >= 0\n",
      "\n",
      "_C250: xij_('Sussex',_5) - xij_('Warren',_5) + xprime_SussexWarren >= 0\n",
      "\n",
      "_C251: xij_('Hunterdon',_0) - xij_('Morris',_0) - xij_('Somerset',_0)\n",
      " - xij_('Warren',_0) <= 0\n",
      "\n",
      "_C252: - xij_('Essex',_0) - xij_('Hunterdon',_0) + xij_('Morris',_0)\n",
      " - xij_('Passaic',_0) - xij_('Somerset',_0) - xij_('Sussex',_0)\n",
      " - xij_('Union',_0) - xij_('Warren',_0) <= 0\n",
      "\n",
      "_C253: - xij_('Bergen',_0) - xij_('Essex',_0) - xij_('Morris',_0)\n",
      " + xij_('Passaic',_0) - xij_('Sussex',_0) <= 0\n",
      "\n",
      "_C254: - xij_('Hunterdon',_0) - xij_('Morris',_0) + xij_('Somerset',_0)\n",
      " - xij_('Union',_0) <= 0\n",
      "\n",
      "_C255: - xij_('Morris',_0) - xij_('Passaic',_0) + xij_('Sussex',_0)\n",
      " - xij_('Warren',_0) <= 0\n",
      "\n",
      "_C256: - xij_('Essex',_0) - xij_('Hudson',_0) - xij_('Morris',_0)\n",
      " - xij_('Somerset',_0) + xij_('Union',_0) <= 0\n",
      "\n",
      "_C257: - xij_('Hunterdon',_0) - xij_('Morris',_0) - xij_('Sussex',_0)\n",
      " + xij_('Warren',_0) <= 0\n",
      "\n",
      "_C258: xij_('Hunterdon',_1) - xij_('Morris',_1) - xij_('Somerset',_1)\n",
      " - xij_('Warren',_1) <= 0\n",
      "\n",
      "_C259: - xij_('Essex',_1) - xij_('Hunterdon',_1) + xij_('Morris',_1)\n",
      " - xij_('Passaic',_1) - xij_('Somerset',_1) - xij_('Sussex',_1)\n",
      " - xij_('Union',_1) - xij_('Warren',_1) <= 0\n",
      "\n",
      "_C260: - xij_('Bergen',_1) - xij_('Essex',_1) - xij_('Morris',_1)\n",
      " + xij_('Passaic',_1) - xij_('Sussex',_1) <= 0\n",
      "\n",
      "_C261: - xij_('Hunterdon',_1) - xij_('Morris',_1) + xij_('Somerset',_1)\n",
      " - xij_('Union',_1) <= 0\n",
      "\n",
      "_C262: - xij_('Morris',_1) - xij_('Passaic',_1) + xij_('Sussex',_1)\n",
      " - xij_('Warren',_1) <= 0\n",
      "\n",
      "_C263: - xij_('Essex',_1) - xij_('Hudson',_1) - xij_('Morris',_1)\n",
      " - xij_('Somerset',_1) + xij_('Union',_1) <= 0\n",
      "\n",
      "_C264: - xij_('Hunterdon',_1) - xij_('Morris',_1) - xij_('Sussex',_1)\n",
      " + xij_('Warren',_1) <= 0\n",
      "\n",
      "_C265: xij_('Hunterdon',_2) - xij_('Morris',_2) - xij_('Somerset',_2)\n",
      " - xij_('Warren',_2) <= 0\n",
      "\n",
      "_C266: - xij_('Essex',_2) - xij_('Hunterdon',_2) + xij_('Morris',_2)\n",
      " - xij_('Passaic',_2) - xij_('Somerset',_2) - xij_('Sussex',_2)\n",
      " - xij_('Union',_2) - xij_('Warren',_2) <= 0\n",
      "\n",
      "_C267: - xij_('Bergen',_2) - xij_('Essex',_2) - xij_('Morris',_2)\n",
      " + xij_('Passaic',_2) - xij_('Sussex',_2) <= 0\n",
      "\n",
      "_C268: - xij_('Hunterdon',_2) - xij_('Morris',_2) + xij_('Somerset',_2)\n",
      " - xij_('Union',_2) <= 0\n",
      "\n",
      "_C269: - xij_('Morris',_2) - xij_('Passaic',_2) + xij_('Sussex',_2)\n",
      " - xij_('Warren',_2) <= 0\n",
      "\n",
      "_C270: - xij_('Essex',_2) - xij_('Hudson',_2) - xij_('Morris',_2)\n",
      " - xij_('Somerset',_2) + xij_('Union',_2) <= 0\n",
      "\n",
      "_C271: - xij_('Hunterdon',_2) - xij_('Morris',_2) - xij_('Sussex',_2)\n",
      " + xij_('Warren',_2) <= 0\n",
      "\n",
      "_C272: xij_('Hunterdon',_3) - xij_('Morris',_3) - xij_('Somerset',_3)\n",
      " - xij_('Warren',_3) <= 0\n",
      "\n",
      "_C273: - xij_('Essex',_3) - xij_('Hunterdon',_3) + xij_('Morris',_3)\n",
      " - xij_('Passaic',_3) - xij_('Somerset',_3) - xij_('Sussex',_3)\n",
      " - xij_('Union',_3) - xij_('Warren',_3) <= 0\n",
      "\n",
      "_C274: - xij_('Bergen',_3) - xij_('Essex',_3) - xij_('Morris',_3)\n",
      " + xij_('Passaic',_3) - xij_('Sussex',_3) <= 0\n",
      "\n",
      "_C275: - xij_('Hunterdon',_3) - xij_('Morris',_3) + xij_('Somerset',_3)\n",
      " - xij_('Union',_3) <= 0\n",
      "\n",
      "_C276: - xij_('Morris',_3) - xij_('Passaic',_3) + xij_('Sussex',_3)\n",
      " - xij_('Warren',_3) <= 0\n",
      "\n",
      "_C277: - xij_('Essex',_3) - xij_('Hudson',_3) - xij_('Morris',_3)\n",
      " - xij_('Somerset',_3) + xij_('Union',_3) <= 0\n",
      "\n",
      "_C278: - xij_('Hunterdon',_3) - xij_('Morris',_3) - xij_('Sussex',_3)\n",
      " + xij_('Warren',_3) <= 0\n",
      "\n",
      "_C279: xij_('Hunterdon',_4) - xij_('Morris',_4) - xij_('Somerset',_4)\n",
      " - xij_('Warren',_4) <= 0\n",
      "\n",
      "_C280: - xij_('Essex',_4) - xij_('Hunterdon',_4) + xij_('Morris',_4)\n",
      " - xij_('Passaic',_4) - xij_('Somerset',_4) - xij_('Sussex',_4)\n",
      " - xij_('Union',_4) - xij_('Warren',_4) <= 0\n",
      "\n",
      "_C281: - xij_('Bergen',_4) - xij_('Essex',_4) - xij_('Morris',_4)\n",
      " + xij_('Passaic',_4) - xij_('Sussex',_4) <= 0\n",
      "\n",
      "_C282: - xij_('Hunterdon',_4) - xij_('Morris',_4) + xij_('Somerset',_4)\n",
      " - xij_('Union',_4) <= 0\n",
      "\n",
      "_C283: - xij_('Morris',_4) - xij_('Passaic',_4) + xij_('Sussex',_4)\n",
      " - xij_('Warren',_4) <= 0\n",
      "\n",
      "_C284: - xij_('Essex',_4) - xij_('Hudson',_4) - xij_('Morris',_4)\n",
      " - xij_('Somerset',_4) + xij_('Union',_4) <= 0\n",
      "\n",
      "_C285: - xij_('Hunterdon',_4) - xij_('Morris',_4) - xij_('Sussex',_4)\n",
      " + xij_('Warren',_4) <= 0\n",
      "\n",
      "_C286: xij_('Hunterdon',_5) - xij_('Morris',_5) - xij_('Somerset',_5)\n",
      " - xij_('Warren',_5) <= 0\n",
      "\n",
      "_C287: - xij_('Essex',_5) - xij_('Hunterdon',_5) + xij_('Morris',_5)\n",
      " - xij_('Passaic',_5) - xij_('Somerset',_5) - xij_('Sussex',_5)\n",
      " - xij_('Union',_5) - xij_('Warren',_5) <= 0\n",
      "\n",
      "_C288: - xij_('Bergen',_5) - xij_('Essex',_5) - xij_('Morris',_5)\n",
      " + xij_('Passaic',_5) - xij_('Sussex',_5) <= 0\n",
      "\n",
      "_C289: - xij_('Hunterdon',_5) - xij_('Morris',_5) + xij_('Somerset',_5)\n",
      " - xij_('Union',_5) <= 0\n",
      "\n",
      "_C290: - xij_('Morris',_5) - xij_('Passaic',_5) + xij_('Sussex',_5)\n",
      " - xij_('Warren',_5) <= 0\n",
      "\n",
      "_C291: - xij_('Essex',_5) - xij_('Hudson',_5) - xij_('Morris',_5)\n",
      " - xij_('Somerset',_5) + xij_('Union',_5) <= 0\n",
      "\n",
      "_C292: - xij_('Hunterdon',_5) - xij_('Morris',_5) - xij_('Sussex',_5)\n",
      " + xij_('Warren',_5) <= 0\n",
      "\n",
      "VARIABLES\n",
      "0 <= xij_('Bergen',_0) <= 1 Integer\n",
      "0 <= xij_('Bergen',_1) <= 1 Integer\n",
      "0 <= xij_('Bergen',_2) <= 1 Integer\n",
      "0 <= xij_('Bergen',_3) <= 1 Integer\n",
      "0 <= xij_('Bergen',_4) <= 1 Integer\n",
      "0 <= xij_('Bergen',_5) <= 1 Integer\n",
      "0 <= xij_('Essex',_0) <= 1 Integer\n",
      "0 <= xij_('Essex',_1) <= 1 Integer\n",
      "0 <= xij_('Essex',_2) <= 1 Integer\n",
      "0 <= xij_('Essex',_3) <= 1 Integer\n",
      "0 <= xij_('Essex',_4) <= 1 Integer\n",
      "0 <= xij_('Essex',_5) <= 1 Integer\n",
      "0 <= xij_('Hudson',_0) <= 1 Integer\n",
      "0 <= xij_('Hudson',_1) <= 1 Integer\n",
      "0 <= xij_('Hudson',_2) <= 1 Integer\n",
      "0 <= xij_('Hudson',_3) <= 1 Integer\n",
      "0 <= xij_('Hudson',_4) <= 1 Integer\n",
      "0 <= xij_('Hudson',_5) <= 1 Integer\n",
      "0 <= xij_('Hunterdon',_0) <= 1 Integer\n",
      "0 <= xij_('Hunterdon',_1) <= 1 Integer\n",
      "0 <= xij_('Hunterdon',_2) <= 1 Integer\n",
      "0 <= xij_('Hunterdon',_3) <= 1 Integer\n",
      "0 <= xij_('Hunterdon',_4) <= 1 Integer\n",
      "0 <= xij_('Hunterdon',_5) <= 1 Integer\n",
      "0 <= xij_('Morris',_0) <= 1 Integer\n",
      "0 <= xij_('Morris',_1) <= 1 Integer\n",
      "0 <= xij_('Morris',_2) <= 1 Integer\n",
      "0 <= xij_('Morris',_3) <= 1 Integer\n",
      "0 <= xij_('Morris',_4) <= 1 Integer\n",
      "0 <= xij_('Morris',_5) <= 1 Integer\n",
      "0 <= xij_('Passaic',_0) <= 1 Integer\n",
      "0 <= xij_('Passaic',_1) <= 1 Integer\n",
      "0 <= xij_('Passaic',_2) <= 1 Integer\n",
      "0 <= xij_('Passaic',_3) <= 1 Integer\n",
      "0 <= xij_('Passaic',_4) <= 1 Integer\n",
      "0 <= xij_('Passaic',_5) <= 1 Integer\n",
      "0 <= xij_('Somerset',_0) <= 1 Integer\n",
      "0 <= xij_('Somerset',_1) <= 1 Integer\n",
      "0 <= xij_('Somerset',_2) <= 1 Integer\n",
      "0 <= xij_('Somerset',_3) <= 1 Integer\n",
      "0 <= xij_('Somerset',_4) <= 1 Integer\n",
      "0 <= xij_('Somerset',_5) <= 1 Integer\n",
      "0 <= xij_('Sussex',_0) <= 1 Integer\n",
      "0 <= xij_('Sussex',_1) <= 1 Integer\n",
      "0 <= xij_('Sussex',_2) <= 1 Integer\n",
      "0 <= xij_('Sussex',_3) <= 1 Integer\n",
      "0 <= xij_('Sussex',_4) <= 1 Integer\n",
      "0 <= xij_('Sussex',_5) <= 1 Integer\n",
      "0 <= xij_('Union',_0) <= 1 Integer\n",
      "0 <= xij_('Union',_1) <= 1 Integer\n",
      "0 <= xij_('Union',_2) <= 1 Integer\n",
      "0 <= xij_('Union',_3) <= 1 Integer\n",
      "0 <= xij_('Union',_4) <= 1 Integer\n",
      "0 <= xij_('Union',_5) <= 1 Integer\n",
      "0 <= xij_('Warren',_0) <= 1 Integer\n",
      "0 <= xij_('Warren',_1) <= 1 Integer\n",
      "0 <= xij_('Warren',_2) <= 1 Integer\n",
      "0 <= xij_('Warren',_3) <= 1 Integer\n",
      "0 <= xij_('Warren',_4) <= 1 Integer\n",
      "0 <= xij_('Warren',_5) <= 1 Integer\n",
      "0 <= xprime_BergenEssex <= 1 Integer\n",
      "0 <= xprime_BergenHudson <= 1 Integer\n",
      "0 <= xprime_BergenPassaic <= 1 Integer\n",
      "0 <= xprime_EssexHudson <= 1 Integer\n",
      "0 <= xprime_EssexMorris <= 1 Integer\n",
      "0 <= xprime_EssexPassaic <= 1 Integer\n",
      "0 <= xprime_EssexUnion <= 1 Integer\n",
      "0 <= xprime_HudsonUnion <= 1 Integer\n",
      "0 <= xprime_HunterdonMorris <= 1 Integer\n",
      "0 <= xprime_HunterdonSomerset <= 1 Integer\n",
      "0 <= xprime_HunterdonWarren <= 1 Integer\n",
      "0 <= xprime_MorrisPassaic <= 1 Integer\n",
      "0 <= xprime_MorrisSomerset <= 1 Integer\n",
      "0 <= xprime_MorrisSussex <= 1 Integer\n",
      "0 <= xprime_MorrisUnion <= 1 Integer\n",
      "0 <= xprime_MorrisWarren <= 1 Integer\n",
      "0 <= xprime_PassaicSussex <= 1 Integer\n",
      "0 <= xprime_SomersetUnion <= 1 Integer\n",
      "0 <= xprime_SussexWarren <= 1 Integer\n",
      "\n"
     ]
    }
   ],
   "source": [
    "print(prob)"
   ]
  },
  {
   "cell_type": "markdown",
   "id": "70487b66",
   "metadata": {
    "id": "70487b66"
   },
   "source": [
    "### Count the Number of Cut Edges"
   ]
  }
 ],
 "metadata": {
  "colab": {
   "include_colab_link": true,
   "provenance": []
  },
  "kernelspec": {
   "display_name": "Python 3 (ipykernel)",
   "language": "python",
   "name": "python3"
  },
  "language_info": {
   "codemirror_mode": {
    "name": "ipython",
    "version": 3
   },
   "file_extension": ".py",
   "mimetype": "text/x-python",
   "name": "python",
   "nbconvert_exporter": "python",
   "pygments_lexer": "ipython3",
   "version": "3.10.9"
  }
 },
 "nbformat": 4,
 "nbformat_minor": 5
}

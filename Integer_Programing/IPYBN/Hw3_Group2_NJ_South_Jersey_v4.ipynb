{
 "cells": [
  {
   "cell_type": "markdown",
   "id": "8b7959de",
   "metadata": {
    "colab_type": "text",
    "id": "view-in-github"
   },
   "source": [
    "<a href=\"https://colab.research.google.com/github/cglamb/Collab/blob/main/Hw3_Group2_NJ_LowerNJ.ipynb\" target=\"_parent\"><img src=\"https://colab.research.google.com/assets/colab-badge.svg\" alt=\"Open In Colab\"/></a>"
   ]
  },
  {
   "cell_type": "markdown",
   "id": "25a1c63b",
   "metadata": {
    "id": "25a1c63b"
   },
   "source": [
    "### Redistricting New Jersey"
   ]
  },
  {
   "cell_type": "markdown",
   "id": "1da7c19c",
   "metadata": {
    "id": "1da7c19c"
   },
   "source": [
    "Group 2: Charles Lamb, Connor Cassedy, Heidi Huckabay, and Susan Alrifai"
   ]
  },
  {
   "cell_type": "markdown",
   "id": "766fbe33",
   "metadata": {
    "id": "766fbe33"
   },
   "source": [
    "### Library Import"
   ]
  },
  {
   "cell_type": "code",
   "execution_count": 1,
   "id": "uk-B6EAE7-XE",
   "metadata": {
    "colab": {
     "base_uri": "https://localhost:8080/"
    },
    "id": "uk-B6EAE7-XE",
    "outputId": "c1f60f94-f236-486e-dc9a-8e93e379d2c8"
   },
   "outputs": [
    {
     "name": "stdout",
     "output_type": "stream",
     "text": [
      "Requirement already satisfied: pulp in c:\\users\\cglam\\anaconda3_\\lib\\site-packages (2.7.0)\n",
      "Note: you may need to restart the kernel to use updated packages.\n"
     ]
    }
   ],
   "source": [
    "pip install pulp"
   ]
  },
  {
   "cell_type": "code",
   "execution_count": 2,
   "id": "2c422ae0",
   "metadata": {
    "id": "2c422ae0"
   },
   "outputs": [],
   "source": [
    "#import libraries\n",
    "import pulp, numpy as np, pandas as pd, math\n",
    "from pulp import *"
   ]
  },
  {
   "cell_type": "markdown",
   "id": "55ed7ca4",
   "metadata": {
    "id": "55ed7ca4"
   },
   "source": [
    "### New Jersey State Data"
   ]
  },
  {
   "cell_type": "markdown",
   "id": "ed98b970",
   "metadata": {
    "id": "ed98b970"
   },
   "source": [
    "Data source is US Census data containing 2020 population size by county for the state of New Jersey: https://www.census.gov/data/tables/time-series/demo/popest/2020s-counties-total.html"
   ]
  },
  {
   "cell_type": "code",
   "execution_count": 3,
   "id": "4f53c89b",
   "metadata": {
    "id": "4f53c89b"
   },
   "outputs": [],
   "source": [
    "#bringing in county and population as list\n",
    "county_pop = [['Atlantic',274536],['Burlington',461863],['Camden',523486],['Cape',95266],['Cumberland',154148],['Gloucester',302285],['Mercer',387340],['Middlesex',863183],['Monmouth',643608],['Ocean',637229],['Salem',64834]]"
   ]
  },
  {
   "cell_type": "code",
   "execution_count": 4,
   "id": "4b9c301e",
   "metadata": {
    "id": "4b9c301e"
   },
   "outputs": [],
   "source": [
    "#setting up a dataframe\n",
    "df0 = pd.DataFrame(county_pop,columns=['county','pop'])"
   ]
  },
  {
   "cell_type": "code",
   "execution_count": 5,
   "id": "53bf0b33",
   "metadata": {
    "colab": {
     "base_uri": "https://localhost:8080/"
    },
    "id": "53bf0b33",
    "outputId": "6fc1758f-2ca9-4506-9a56-2b3f88551b73"
   },
   "outputs": [
    {
     "name": "stdout",
     "output_type": "stream",
     "text": [
      "11\n"
     ]
    }
   ],
   "source": [
    "#checking we have the appropriate number of counties in the dataframe\n",
    "#per the assignment we expect to see 92\n",
    "county_cnt = len(df0['county'].unique())\n",
    "print(county_cnt)"
   ]
  },
  {
   "cell_type": "markdown",
   "id": "9fdedea2",
   "metadata": {
    "id": "9fdedea2"
   },
   "source": [
    "### Adjacent Pair Setup"
   ]
  },
  {
   "cell_type": "markdown",
   "id": "06b83617",
   "metadata": {
    "id": "06b83617"
   },
   "source": [
    "Based on data from the following: https://www2.census.gov/geo/docs/reference/county_adjacency.txt"
   ]
  },
  {
   "cell_type": "markdown",
   "id": "147f81f4",
   "metadata": {
    "id": "147f81f4"
   },
   "source": [
    "Some pre-proceesing was performed.  Pairs were found only for the state of Indiana.  And some many adjustment to county name conventions was made to be consistent with the rest of data used in this file"
   ]
  },
  {
   "cell_type": "code",
   "execution_count": 6,
   "id": "1d0306fd",
   "metadata": {
    "id": "1d0306fd"
   },
   "outputs": [],
   "source": [
    "county_pair_list= [['Atlantic','Burlington'],['Atlantic','Camden'],['Atlantic','Cape'],['Atlantic','Cumberland'],['Atlantic','Gloucester'],['Atlantic','Ocean'],['Burlington','Atlantic'],['Burlington','Camden'],['Burlington','Mercer'],['Burlington','Monmouth'],['Burlington','Ocean'],['Camden','Atlantic'],['Camden','Burlington'],['Camden','Gloucester'],['Cape','Atlantic'],['Cape','Cumberland'],['Cumberland','Atlantic'],['Cumberland','Cape'],['Cumberland','Gloucester'],['Cumberland','Salem'],['Gloucester','Atlantic'],['Gloucester','Camden'],['Gloucester','Cumberland'],['Gloucester','Salem'],['Mercer','Burlington'],['Mercer','Middlesex'],['Mercer','Monmouth'],['Middlesex','Mercer'],['Middlesex','Monmouth'],['Monmouth','Burlington'],['Monmouth','Mercer'],['Monmouth','Middlesex'],['Monmouth','Ocean'],['Ocean','Atlantic'],['Ocean','Burlington'],['Ocean','Monmouth'],['Salem','Cumberland'],['Salem','Gloucester']]"
   ]
  },
  {
   "cell_type": "code",
   "execution_count": 7,
   "id": "b1d5195d",
   "metadata": {
    "id": "b1d5195d"
   },
   "outputs": [],
   "source": [
    "df_pair = pd.DataFrame(county_pair_list, columns=['county','adj_county'])"
   ]
  },
  {
   "cell_type": "markdown",
   "id": "f64424c5",
   "metadata": {
    "id": "f64424c5"
   },
   "source": [
    "### Total Pop Count"
   ]
  },
  {
   "cell_type": "code",
   "execution_count": 8,
   "id": "bf1f7aab",
   "metadata": {
    "colab": {
     "base_uri": "https://localhost:8080/",
     "height": 35
    },
    "id": "bf1f7aab",
    "outputId": "a1979dfb-4f18-43cf-acb8-d7c6f104e6d9"
   },
   "outputs": [],
   "source": [
    "state_pop = df0['pop'].sum()"
   ]
  },
  {
   "cell_type": "markdown",
   "id": "3e872780",
   "metadata": {
    "id": "3e872780"
   },
   "source": [
    "### Global Variables"
   ]
  },
  {
   "cell_type": "code",
   "execution_count": 9,
   "id": "2125b0f5",
   "metadata": {
    "id": "2125b0f5"
   },
   "outputs": [],
   "source": [
    "num_counties = county_cnt #number of counties\n",
    "num_leg_districits = 4 #number of legistlative districts\n",
    "pop_per_rep = state_pop / num_leg_districits #gives us population per representative\n",
    "pop_sen = 1.25 #variance we will allow in district pop from average\n",
    "pop_max = pop_per_rep * pop_sen #max pop allowed in each legislative district\n",
    "pop_min = pop_per_rep / pop_sen #min pop allowed in each legislative district"
   ]
  },
  {
   "cell_type": "markdown",
   "id": "df93e271",
   "metadata": {},
   "source": [
    "### Looking for Counties with Populations within the Pop Range"
   ]
  },
  {
   "cell_type": "code",
   "execution_count": 10,
   "id": "302be098",
   "metadata": {
    "colab": {
     "base_uri": "https://localhost:8080/"
    },
    "id": "302be098",
    "outputId": "8becae4e-68b5-425c-e1cc-b77b4833cd0a"
   },
   "outputs": [
    {
     "data": {
      "text/plain": [
       "Series([], Name: county, dtype: object)"
      ]
     },
     "execution_count": 10,
     "metadata": {},
     "output_type": "execute_result"
    }
   ],
   "source": [
    "df0[df0['pop'] >= pop_min]['county']"
   ]
  },
  {
   "cell_type": "code",
   "execution_count": 11,
   "id": "dfe474f3",
   "metadata": {},
   "outputs": [],
   "source": [
    "isolate_list = df0[df0['pop'] >= pop_min]['county']"
   ]
  },
  {
   "cell_type": "markdown",
   "id": "0dd37943",
   "metadata": {
    "id": "0dd37943"
   },
   "source": [
    "### Setup"
   ]
  },
  {
   "cell_type": "code",
   "execution_count": 12,
   "id": "659f6e85",
   "metadata": {
    "id": "659f6e85"
   },
   "outputs": [],
   "source": [
    "#creating a variable for each county.\n",
    "counties = df0['county'].unique()"
   ]
  },
  {
   "cell_type": "code",
   "execution_count": 13,
   "id": "39013b59",
   "metadata": {
    "id": "39013b59"
   },
   "outputs": [],
   "source": [
    "#creating a variable for each district\n",
    "district = list(range(0,num_leg_districits))"
   ]
  },
  {
   "cell_type": "code",
   "execution_count": 14,
   "id": "dac423f1",
   "metadata": {
    "id": "dac423f1"
   },
   "outputs": [],
   "source": [
    "#creating a population dictionary\n",
    "pop_list = df0['pop']\n",
    "pop = dict(zip(counties, pop_list))"
   ]
  },
  {
   "cell_type": "code",
   "execution_count": 15,
   "id": "a0caf867",
   "metadata": {
    "id": "a0caf867"
   },
   "outputs": [],
   "source": [
    "#adjacency dictionary\n",
    "adj_dict = df_pair.groupby('county')['adj_county'].apply(list).to_dict()"
   ]
  },
  {
   "cell_type": "markdown",
   "id": "b0fed6d1",
   "metadata": {
    "id": "b0fed6d1"
   },
   "source": [
    "### Creating All Possible Adjacent Pairs"
   ]
  },
  {
   "cell_type": "code",
   "execution_count": 16,
   "id": "7024d194",
   "metadata": {
    "id": "7024d194"
   },
   "outputs": [],
   "source": [
    "pair_temp = []\n",
    "sorted_pair_temp = []\n",
    "start_county = []\n",
    "end_county = []\n",
    "for i in counties:\n",
    "    for p in adj_dict[i]:\n",
    "       pair_temp.append(i+p)\n",
    "       sorted_pair_temp.append(sorted(i+p))\n",
    "       start_county.append(i)\n",
    "       end_county.append(p)\n",
    "d = {'pair_list':pair_temp,'sorted':sorted_pair_temp,\"start\":start_county,\"end\":end_county}\n",
    "df = pd.DataFrame(d)\n",
    "key_list = df.sorted.drop_duplicates().keys()\n",
    "pair_list = df.pair_list[key_list]\n",
    "start_list = df.start[key_list]\n",
    "end_list = df.end[key_list]"
   ]
  },
  {
   "cell_type": "markdown",
   "id": "8eef24ea",
   "metadata": {
    "id": "8eef24ea"
   },
   "source": [
    "### Creating a dataframe of each pair within each district layer"
   ]
  },
  {
   "cell_type": "code",
   "execution_count": 17,
   "id": "0a806aeb",
   "metadata": {
    "id": "0a806aeb"
   },
   "outputs": [],
   "source": [
    "#this will help built the constraint a little quicker, so doing this here and now\n",
    "pair_list2  = [(p,d) for p in pair_list for d in district]\n",
    "start_list2  = [(s,d) for s in start_list for d in district]\n",
    "end_list2  = [(e,d) for e in end_list for d in district]\n",
    "d2 = {'pair_list':pair_list2,'start':start_list2,\"end\":end_list2}\n",
    "df2 = pd.DataFrame(d2)"
   ]
  },
  {
   "cell_type": "markdown",
   "id": "8f5c5613",
   "metadata": {
    "id": "8f5c5613"
   },
   "source": [
    "### Establishing Variables"
   ]
  },
  {
   "cell_type": "code",
   "execution_count": 18,
   "id": "a5293064",
   "metadata": {
    "id": "a5293064"
   },
   "outputs": [],
   "source": [
    "#establish county/district variables\n",
    "county_district = LpVariable.dicts(\"xij\",[(c,d) for c in counties for d in district],0,1,cat=\"Integer\")\n",
    "adj_pair = LpVariable.dicts(\"xprime\",[p for p in pair_list],0,1,cat=\"Integer\")"
   ]
  },
  {
   "cell_type": "markdown",
   "id": "aa25362c",
   "metadata": {
    "id": "aa25362c"
   },
   "source": [
    "### Objective Function"
   ]
  },
  {
   "cell_type": "code",
   "execution_count": 19,
   "id": "ddecd890",
   "metadata": {
    "id": "ddecd890"
   },
   "outputs": [],
   "source": [
    "#setting up problem\n",
    "prob = LpProblem(\"problem\",LpMinimize)\n",
    "prob += lpSum([adj_pair[i] for i in adj_pair])"
   ]
  },
  {
   "cell_type": "markdown",
   "id": "f07390d5",
   "metadata": {
    "id": "f07390d5"
   },
   "source": [
    "### Establishing constraints"
   ]
  },
  {
   "cell_type": "code",
   "execution_count": 20,
   "id": "da22b7cf",
   "metadata": {
    "id": "da22b7cf"
   },
   "outputs": [],
   "source": [
    "#making sure each county is assigned to one and only one district\n",
    "for c in counties:\n",
    "    prob += lpSum([county_district[(c,d)] for d in district]) == 1\n",
    "\n",
    "#making sure each county is assigned to one and only one district\n",
    "    #prob += lpSum([county_district[(c,0)]*pre_asign_dict[c] for c in counties]) == 1\n",
    "\n",
    "#setting up constraints on max population in each district\n",
    "for d in district:\n",
    "    prob += lpSum([county_district[(i,d)] * pop[i] for i in counties]) <= pop_max\n",
    "    \n",
    "#setting up constraints on min population in each district\n",
    "for d in district:\n",
    "    prob += lpSum([county_district[(i,d)] * pop[i] for i in counties]) >= pop_min\n",
    "\n",
    "#cut edge variables\n",
    "for i in range(len(pair_list2)):\n",
    "    prob += adj_pair[list(adj_pair)[math.ceil(i/num_leg_districits)-1]] >= county_district[start_list2[i]] - county_district[end_list2[i]]\n",
    "\n",
    "for i in range(len(pair_list2)):\n",
    "    prob += adj_pair[list(adj_pair)[math.ceil(i/num_leg_districits)-1]] >= county_district[end_list2[i]] - county_district[start_list2[i]]\n",
    "    \n",
    "#mandating adjacency:\n",
    "for d in district:\n",
    "    prob += county_district[\"Atlantic\",d] <= county_district[\"Burlington\",d] + county_district[\"Camden\",d] + county_district[\"Cape\",d]  + county_district[\"Cumberland\",d] + county_district[\"Gloucester\",d] + county_district[\"Ocean\",d]\n",
    "    prob += county_district[\"Burlington\",d] <= county_district[\"Atlantic\",d] + county_district[\"Camden\",d] + county_district[\"Mercer\",d]  + county_district[\"Monmouth\",d] + county_district[\"Ocean\",d] \n",
    "    prob += county_district[\"Camden\",d] <= county_district[\"Burlington\",d] + county_district[\"Atlantic\",d] + county_district[\"Gloucester\",d]\n",
    "    prob += county_district[\"Cape\",d] <= county_district[\"Cumberland\",d] + county_district[\"Atlantic\",d]\n",
    "    prob += county_district[\"Cumberland\",d] <= county_district[\"Salem\",d] + county_district[\"Gloucester\",d] + county_district[\"Atlantic\",d] + county_district[\"Cape\",d] \n",
    "    prob += county_district[\"Gloucester\",d] <= county_district[\"Salem\",d] + county_district[\"Cumberland\",d] + county_district[\"Atlantic\",d] + county_district[\"Camden\",d]\n",
    "    #prob += county_district[\"Hunterdon\",d] <= county_district[\"Warren\",d] + county_district[\"Morris\",d] + county_district[\"Somerset\",d]\n",
    "    prob += county_district[\"Mercer\",d] <= + county_district[\"Burlington\",d] + county_district[\"Middlesex\",d] + county_district[\"Monmouth\",d] \n",
    "    prob += county_district[\"Monmouth\",d] <= county_district[\"Burlington\",d] + county_district[\"Mercer\",d] + county_district[\"Middlesex\",d] + county_district[\"Ocean\",d] \n",
    "    #prob += county_district[\"Morris\",d] <= county_district[\"Essex\",d] + county_district[\"Hunterdon\",d] + county_district[\"Passaic\",d] + county_district[\"Somerset\",d] + county_district[\"Sussex\",d] + county_district[\"Union\",d] + county_district[\"Warren\",d] \n",
    "    prob += county_district[\"Ocean\",d] <= county_district[\"Atlantic\",d] + county_district[\"Burlington\",d] + county_district[\"Monmouth\",d]\n",
    "    #prob += county_district[\"Passaic\",d] <= county_district[\"Bergen\",d] + county_district[\"Essex\",d] + county_district[\"Morris\",d] + county_district[\"Sussex\",d]\n",
    "    prob += county_district[\"Salem\",d] <= county_district[\"Gloucester\",d] + county_district[\"Cumberland\",d]  \n",
    "    #prob += county_district[\"Somerset\",d] <= county_district[\"Hunterdon\",d]  + county_district[\"Morris\",d] + county_district[\"Union\",d]\n",
    "    #prob += county_district[\"Sussex\",d] <= county_district[\"Morris\",d] + county_district[\"Passaic\",d] + county_district[\"Warren\",d]                 \n",
    "    #prob += county_district[\"Union\",d] <= county_district[\"Essex\",d] + county_district[\"Hudson\",d] + county_district[\"Morris\",d] + county_district[\"Somerset\",d]    \n",
    "    #prob += county_district[\"Warren\",d] <= county_district[\"Hunterdon\",d] + county_district[\"Morris\",d] + county_district[\"Sussex\",d]"
   ]
  },
  {
   "cell_type": "markdown",
   "id": "7bd69b6b",
   "metadata": {
    "id": "7bd69b6b"
   },
   "source": [
    "### Solve"
   ]
  },
  {
   "cell_type": "code",
   "execution_count": 21,
   "id": "109cb847",
   "metadata": {
    "colab": {
     "base_uri": "https://localhost:8080/"
    },
    "id": "109cb847",
    "outputId": "9467c2e1-db9e-432d-f81a-934e5aa51e71"
   },
   "outputs": [
    {
     "data": {
      "text/plain": [
       "1"
      ]
     },
     "execution_count": 21,
     "metadata": {},
     "output_type": "execute_result"
    }
   ],
   "source": [
    "prob.solve()"
   ]
  },
  {
   "cell_type": "markdown",
   "id": "83f15e3a",
   "metadata": {
    "id": "83f15e3a"
   },
   "source": [
    "### Show the Assignment of County to Legislative District"
   ]
  },
  {
   "cell_type": "code",
   "execution_count": 22,
   "id": "5e6afc0e",
   "metadata": {
    "id": "5e6afc0e"
   },
   "outputs": [],
   "source": [
    "assignment_list = []\n",
    "assignment_county = []\n",
    "assignment_district = []\n",
    "assignment_pop = []\n",
    "for i in county_district:\n",
    "    assignment_list.append(county_district[i].varValue)\n",
    "for c in counties:\n",
    "    for j in district:\n",
    "        assignment_county.append(c)\n",
    "        assignment_district.append(j)\n",
    "        assignment_pop.append(pop[c])\n",
    "d3 = {\"County\":assignment_county, \"Legislative_District\": assignment_district, \"assignment_list\": assignment_list, \"pop\": assignment_pop}\n",
    "df3 = pd.DataFrame(d3)\n",
    "df3 = df3[df3['assignment_list'] == 1]"
   ]
  },
  {
   "cell_type": "code",
   "execution_count": 23,
   "id": "33c06637",
   "metadata": {
    "colab": {
     "base_uri": "https://localhost:8080/",
     "height": 143
    },
    "id": "33c06637",
    "outputId": "537828fa-e9a2-478d-f6e4-ebabf1c22624"
   },
   "outputs": [
    {
     "data": {
      "text/html": [
       "<div>\n",
       "<style scoped>\n",
       "    .dataframe tbody tr th:only-of-type {\n",
       "        vertical-align: middle;\n",
       "    }\n",
       "\n",
       "    .dataframe tbody tr th {\n",
       "        vertical-align: top;\n",
       "    }\n",
       "\n",
       "    .dataframe thead th {\n",
       "        text-align: right;\n",
       "    }\n",
       "</style>\n",
       "<table border=\"1\" class=\"dataframe\">\n",
       "  <thead>\n",
       "    <tr style=\"text-align: right;\">\n",
       "      <th></th>\n",
       "      <th>Legislative_District</th>\n",
       "      <th>County</th>\n",
       "    </tr>\n",
       "  </thead>\n",
       "  <tbody>\n",
       "    <tr>\n",
       "      <th>0</th>\n",
       "      <td>0</td>\n",
       "      <td>Atlantic Cape Cumberland Gloucester Salem</td>\n",
       "    </tr>\n",
       "    <tr>\n",
       "      <th>1</th>\n",
       "      <td>1</td>\n",
       "      <td>Monmouth Ocean</td>\n",
       "    </tr>\n",
       "    <tr>\n",
       "      <th>2</th>\n",
       "      <td>2</td>\n",
       "      <td>Burlington Camden</td>\n",
       "    </tr>\n",
       "    <tr>\n",
       "      <th>3</th>\n",
       "      <td>3</td>\n",
       "      <td>Mercer Middlesex</td>\n",
       "    </tr>\n",
       "  </tbody>\n",
       "</table>\n",
       "</div>"
      ],
      "text/plain": [
       "   Legislative_District                                     County\n",
       "0                     0  Atlantic Cape Cumberland Gloucester Salem\n",
       "1                     1                             Monmouth Ocean\n",
       "2                     2                          Burlington Camden\n",
       "3                     3                           Mercer Middlesex"
      ]
     },
     "execution_count": 23,
     "metadata": {},
     "output_type": "execute_result"
    }
   ],
   "source": [
    "df3.groupby('Legislative_District')['County'].apply(' '.join).reset_index()"
   ]
  },
  {
   "cell_type": "code",
   "execution_count": 24,
   "id": "89f85ad2",
   "metadata": {},
   "outputs": [
    {
     "data": {
      "text/html": [
       "<div>\n",
       "<style scoped>\n",
       "    .dataframe tbody tr th:only-of-type {\n",
       "        vertical-align: middle;\n",
       "    }\n",
       "\n",
       "    .dataframe tbody tr th {\n",
       "        vertical-align: top;\n",
       "    }\n",
       "\n",
       "    .dataframe thead th {\n",
       "        text-align: right;\n",
       "    }\n",
       "</style>\n",
       "<table border=\"1\" class=\"dataframe\">\n",
       "  <thead>\n",
       "    <tr style=\"text-align: right;\">\n",
       "      <th></th>\n",
       "      <th>Legislative_District</th>\n",
       "      <th>pop</th>\n",
       "    </tr>\n",
       "  </thead>\n",
       "  <tbody>\n",
       "    <tr>\n",
       "      <th>0</th>\n",
       "      <td>0</td>\n",
       "      <td>891069</td>\n",
       "    </tr>\n",
       "    <tr>\n",
       "      <th>1</th>\n",
       "      <td>1</td>\n",
       "      <td>1280837</td>\n",
       "    </tr>\n",
       "    <tr>\n",
       "      <th>2</th>\n",
       "      <td>2</td>\n",
       "      <td>985349</td>\n",
       "    </tr>\n",
       "    <tr>\n",
       "      <th>3</th>\n",
       "      <td>3</td>\n",
       "      <td>1250523</td>\n",
       "    </tr>\n",
       "  </tbody>\n",
       "</table>\n",
       "</div>"
      ],
      "text/plain": [
       "   Legislative_District      pop\n",
       "0                     0   891069\n",
       "1                     1  1280837\n",
       "2                     2   985349\n",
       "3                     3  1250523"
      ]
     },
     "execution_count": 24,
     "metadata": {},
     "output_type": "execute_result"
    }
   ],
   "source": [
    "df3.groupby('Legislative_District')['pop'].sum().reset_index()"
   ]
  },
  {
   "cell_type": "code",
   "execution_count": 25,
   "id": "e70584d5",
   "metadata": {},
   "outputs": [
    {
     "data": {
      "text/plain": [
       "1101944.5"
      ]
     },
     "execution_count": 25,
     "metadata": {},
     "output_type": "execute_result"
    }
   ],
   "source": [
    "pop_per_rep"
   ]
  },
  {
   "cell_type": "code",
   "execution_count": 26,
   "id": "d6dff33e",
   "metadata": {
    "id": "d6dff33e"
   },
   "outputs": [],
   "source": [
    "df3.to_excel('output_LowerNJ.xlsx')"
   ]
  },
  {
   "cell_type": "markdown",
   "id": "bcb21562",
   "metadata": {
    "id": "3-W9xv7wHJfN"
   },
   "source": [
    "### Check"
   ]
  },
  {
   "cell_type": "code",
   "execution_count": 27,
   "id": "OA0O9NNcG0m0",
   "metadata": {
    "colab": {
     "base_uri": "https://localhost:8080/"
    },
    "id": "OA0O9NNcG0m0",
    "outputId": "8076fc55-e814-4e98-90c6-d5151c596aeb"
   },
   "outputs": [
    {
     "name": "stdout",
     "output_type": "stream",
     "text": [
      "xij_('Atlantic',_0): 1\n",
      "xij_('Atlantic',_1): 0\n",
      "xij_('Atlantic',_2): 0\n",
      "xij_('Atlantic',_3): 0\n",
      "xij_('Burlington',_0): 0\n",
      "xij_('Burlington',_1): 0\n",
      "xij_('Burlington',_2): 1\n",
      "xij_('Burlington',_3): 0\n",
      "xij_('Camden',_0): 0\n",
      "xij_('Camden',_1): 0\n",
      "xij_('Camden',_2): 1\n",
      "xij_('Camden',_3): 0\n",
      "xij_('Cape',_0): 1\n",
      "xij_('Cape',_1): 0\n",
      "xij_('Cape',_2): 0\n",
      "xij_('Cape',_3): 0\n",
      "xij_('Cumberland',_0): 1\n",
      "xij_('Cumberland',_1): 0\n",
      "xij_('Cumberland',_2): 0\n",
      "xij_('Cumberland',_3): 0\n",
      "xij_('Gloucester',_0): 1\n",
      "xij_('Gloucester',_1): 0\n",
      "xij_('Gloucester',_2): 0\n",
      "xij_('Gloucester',_3): 0\n",
      "xij_('Mercer',_0): 0\n",
      "xij_('Mercer',_1): 0\n",
      "xij_('Mercer',_2): 0\n",
      "xij_('Mercer',_3): 1\n",
      "xij_('Middlesex',_0): 0\n",
      "xij_('Middlesex',_1): 0\n",
      "xij_('Middlesex',_2): 0\n",
      "xij_('Middlesex',_3): 1\n",
      "xij_('Monmouth',_0): 0\n",
      "xij_('Monmouth',_1): 1\n",
      "xij_('Monmouth',_2): 0\n",
      "xij_('Monmouth',_3): 0\n",
      "xij_('Ocean',_0): 0\n",
      "xij_('Ocean',_1): 1\n",
      "xij_('Ocean',_2): 0\n",
      "xij_('Ocean',_3): 0\n",
      "xij_('Salem',_0): 1\n",
      "xij_('Salem',_1): 0\n",
      "xij_('Salem',_2): 0\n",
      "xij_('Salem',_3): 0\n",
      "xprime_AtlanticBurlington: 1\n",
      "xprime_AtlanticCamden: 1\n",
      "xprime_AtlanticCape: 0\n",
      "xprime_AtlanticCumberland: 0\n",
      "xprime_AtlanticGloucester: 1\n",
      "xprime_AtlanticOcean: 1\n",
      "xprime_BurlingtonCamden: 0\n",
      "xprime_BurlingtonMercer: 1\n",
      "xprime_BurlingtonMonmouth: 1\n",
      "xprime_BurlingtonOcean: 1\n",
      "xprime_CamdenGloucester: 1\n",
      "xprime_CapeCumberland: 0\n",
      "xprime_CumberlandGloucester: 0\n",
      "xprime_CumberlandSalem: 0\n",
      "xprime_GloucesterSalem: 0\n",
      "xprime_MercerMiddlesex: 0\n",
      "xprime_MercerMonmouth: 1\n",
      "xprime_MiddlesexMonmouth: 1\n",
      "xprime_MonmouthOcean: 1\n"
     ]
    }
   ],
   "source": [
    "for variable in prob.variables():\n",
    "    print(f'{variable}: {value(variable.varValue)}')"
   ]
  },
  {
   "cell_type": "code",
   "execution_count": 28,
   "id": "q-JlXNwrHTff",
   "metadata": {
    "colab": {
     "base_uri": "https://localhost:8080/"
    },
    "id": "q-JlXNwrHTff",
    "outputId": "964cc563-5d96-4f3e-c467-de58d4e53859"
   },
   "outputs": [
    {
     "name": "stdout",
     "output_type": "stream",
     "text": [
      "problem:\n",
      "MINIMIZE\n",
      "1*xprime_AtlanticBurlington + 1*xprime_AtlanticCamden + 1*xprime_AtlanticCape + 1*xprime_AtlanticCumberland + 1*xprime_AtlanticGloucester + 1*xprime_AtlanticOcean + 1*xprime_BurlingtonCamden + 1*xprime_BurlingtonMercer + 1*xprime_BurlingtonMonmouth + 1*xprime_BurlingtonOcean + 1*xprime_CamdenGloucester + 1*xprime_CapeCumberland + 1*xprime_CumberlandGloucester + 1*xprime_CumberlandSalem + 1*xprime_GloucesterSalem + 1*xprime_MercerMiddlesex + 1*xprime_MercerMonmouth + 1*xprime_MiddlesexMonmouth + 1*xprime_MonmouthOcean + 0\n",
      "SUBJECT TO\n",
      "_C1: xij_('Atlantic',_0) + xij_('Atlantic',_1) + xij_('Atlantic',_2)\n",
      " + xij_('Atlantic',_3) = 1\n",
      "\n",
      "_C2: xij_('Burlington',_0) + xij_('Burlington',_1) + xij_('Burlington',_2)\n",
      " + xij_('Burlington',_3) = 1\n",
      "\n",
      "_C3: xij_('Camden',_0) + xij_('Camden',_1) + xij_('Camden',_2)\n",
      " + xij_('Camden',_3) = 1\n",
      "\n",
      "_C4: xij_('Cape',_0) + xij_('Cape',_1) + xij_('Cape',_2) + xij_('Cape',_3) = 1\n",
      "\n",
      "_C5: xij_('Cumberland',_0) + xij_('Cumberland',_1) + xij_('Cumberland',_2)\n",
      " + xij_('Cumberland',_3) = 1\n",
      "\n",
      "_C6: xij_('Gloucester',_0) + xij_('Gloucester',_1) + xij_('Gloucester',_2)\n",
      " + xij_('Gloucester',_3) = 1\n",
      "\n",
      "_C7: xij_('Mercer',_0) + xij_('Mercer',_1) + xij_('Mercer',_2)\n",
      " + xij_('Mercer',_3) = 1\n",
      "\n",
      "_C8: xij_('Middlesex',_0) + xij_('Middlesex',_1) + xij_('Middlesex',_2)\n",
      " + xij_('Middlesex',_3) = 1\n",
      "\n",
      "_C9: xij_('Monmouth',_0) + xij_('Monmouth',_1) + xij_('Monmouth',_2)\n",
      " + xij_('Monmouth',_3) = 1\n",
      "\n",
      "_C10: xij_('Ocean',_0) + xij_('Ocean',_1) + xij_('Ocean',_2)\n",
      " + xij_('Ocean',_3) = 1\n",
      "\n",
      "_C11: xij_('Salem',_0) + xij_('Salem',_1) + xij_('Salem',_2)\n",
      " + xij_('Salem',_3) = 1\n",
      "\n",
      "_C12: 274536 xij_('Atlantic',_0) + 461863 xij_('Burlington',_0)\n",
      " + 523486 xij_('Camden',_0) + 95266 xij_('Cape',_0)\n",
      " + 154148 xij_('Cumberland',_0) + 302285 xij_('Gloucester',_0)\n",
      " + 387340 xij_('Mercer',_0) + 863183 xij_('Middlesex',_0)\n",
      " + 643608 xij_('Monmouth',_0) + 637229 xij_('Ocean',_0)\n",
      " + 64834 xij_('Salem',_0) <= 1377430.625\n",
      "\n",
      "_C13: 274536 xij_('Atlantic',_1) + 461863 xij_('Burlington',_1)\n",
      " + 523486 xij_('Camden',_1) + 95266 xij_('Cape',_1)\n",
      " + 154148 xij_('Cumberland',_1) + 302285 xij_('Gloucester',_1)\n",
      " + 387340 xij_('Mercer',_1) + 863183 xij_('Middlesex',_1)\n",
      " + 643608 xij_('Monmouth',_1) + 637229 xij_('Ocean',_1)\n",
      " + 64834 xij_('Salem',_1) <= 1377430.625\n",
      "\n",
      "_C14: 274536 xij_('Atlantic',_2) + 461863 xij_('Burlington',_2)\n",
      " + 523486 xij_('Camden',_2) + 95266 xij_('Cape',_2)\n",
      " + 154148 xij_('Cumberland',_2) + 302285 xij_('Gloucester',_2)\n",
      " + 387340 xij_('Mercer',_2) + 863183 xij_('Middlesex',_2)\n",
      " + 643608 xij_('Monmouth',_2) + 637229 xij_('Ocean',_2)\n",
      " + 64834 xij_('Salem',_2) <= 1377430.625\n",
      "\n",
      "_C15: 274536 xij_('Atlantic',_3) + 461863 xij_('Burlington',_3)\n",
      " + 523486 xij_('Camden',_3) + 95266 xij_('Cape',_3)\n",
      " + 154148 xij_('Cumberland',_3) + 302285 xij_('Gloucester',_3)\n",
      " + 387340 xij_('Mercer',_3) + 863183 xij_('Middlesex',_3)\n",
      " + 643608 xij_('Monmouth',_3) + 637229 xij_('Ocean',_3)\n",
      " + 64834 xij_('Salem',_3) <= 1377430.625\n",
      "\n",
      "_C16: 274536 xij_('Atlantic',_0) + 461863 xij_('Burlington',_0)\n",
      " + 523486 xij_('Camden',_0) + 95266 xij_('Cape',_0)\n",
      " + 154148 xij_('Cumberland',_0) + 302285 xij_('Gloucester',_0)\n",
      " + 387340 xij_('Mercer',_0) + 863183 xij_('Middlesex',_0)\n",
      " + 643608 xij_('Monmouth',_0) + 637229 xij_('Ocean',_0)\n",
      " + 64834 xij_('Salem',_0) >= 881555.6\n",
      "\n",
      "_C17: 274536 xij_('Atlantic',_1) + 461863 xij_('Burlington',_1)\n",
      " + 523486 xij_('Camden',_1) + 95266 xij_('Cape',_1)\n",
      " + 154148 xij_('Cumberland',_1) + 302285 xij_('Gloucester',_1)\n",
      " + 387340 xij_('Mercer',_1) + 863183 xij_('Middlesex',_1)\n",
      " + 643608 xij_('Monmouth',_1) + 637229 xij_('Ocean',_1)\n",
      " + 64834 xij_('Salem',_1) >= 881555.6\n",
      "\n",
      "_C18: 274536 xij_('Atlantic',_2) + 461863 xij_('Burlington',_2)\n",
      " + 523486 xij_('Camden',_2) + 95266 xij_('Cape',_2)\n",
      " + 154148 xij_('Cumberland',_2) + 302285 xij_('Gloucester',_2)\n",
      " + 387340 xij_('Mercer',_2) + 863183 xij_('Middlesex',_2)\n",
      " + 643608 xij_('Monmouth',_2) + 637229 xij_('Ocean',_2)\n",
      " + 64834 xij_('Salem',_2) >= 881555.6\n",
      "\n",
      "_C19: 274536 xij_('Atlantic',_3) + 461863 xij_('Burlington',_3)\n",
      " + 523486 xij_('Camden',_3) + 95266 xij_('Cape',_3)\n",
      " + 154148 xij_('Cumberland',_3) + 302285 xij_('Gloucester',_3)\n",
      " + 387340 xij_('Mercer',_3) + 863183 xij_('Middlesex',_3)\n",
      " + 643608 xij_('Monmouth',_3) + 637229 xij_('Ocean',_3)\n",
      " + 64834 xij_('Salem',_3) >= 881555.6\n",
      "\n",
      "_C20: - xij_('Atlantic',_0) + xij_('Burlington',_0) + xprime_MonmouthOcean\n",
      " >= 0\n",
      "\n",
      "_C21: - xij_('Atlantic',_1) + xij_('Burlington',_1)\n",
      " + xprime_AtlanticBurlington >= 0\n",
      "\n",
      "_C22: - xij_('Atlantic',_2) + xij_('Burlington',_2)\n",
      " + xprime_AtlanticBurlington >= 0\n",
      "\n",
      "_C23: - xij_('Atlantic',_3) + xij_('Burlington',_3)\n",
      " + xprime_AtlanticBurlington >= 0\n",
      "\n",
      "_C24: - xij_('Atlantic',_0) + xij_('Camden',_0) + xprime_AtlanticBurlington\n",
      " >= 0\n",
      "\n",
      "_C25: - xij_('Atlantic',_1) + xij_('Camden',_1) + xprime_AtlanticCamden >= 0\n",
      "\n",
      "_C26: - xij_('Atlantic',_2) + xij_('Camden',_2) + xprime_AtlanticCamden >= 0\n",
      "\n",
      "_C27: - xij_('Atlantic',_3) + xij_('Camden',_3) + xprime_AtlanticCamden >= 0\n",
      "\n",
      "_C28: - xij_('Atlantic',_0) + xij_('Cape',_0) + xprime_AtlanticCamden >= 0\n",
      "\n",
      "_C29: - xij_('Atlantic',_1) + xij_('Cape',_1) + xprime_AtlanticCape >= 0\n",
      "\n",
      "_C30: - xij_('Atlantic',_2) + xij_('Cape',_2) + xprime_AtlanticCape >= 0\n",
      "\n",
      "_C31: - xij_('Atlantic',_3) + xij_('Cape',_3) + xprime_AtlanticCape >= 0\n",
      "\n",
      "_C32: - xij_('Atlantic',_0) + xij_('Cumberland',_0) + xprime_AtlanticCape >= 0\n",
      "\n",
      "_C33: - xij_('Atlantic',_1) + xij_('Cumberland',_1)\n",
      " + xprime_AtlanticCumberland >= 0\n",
      "\n",
      "_C34: - xij_('Atlantic',_2) + xij_('Cumberland',_2)\n",
      " + xprime_AtlanticCumberland >= 0\n",
      "\n",
      "_C35: - xij_('Atlantic',_3) + xij_('Cumberland',_3)\n",
      " + xprime_AtlanticCumberland >= 0\n",
      "\n",
      "_C36: - xij_('Atlantic',_0) + xij_('Gloucester',_0)\n",
      " + xprime_AtlanticCumberland >= 0\n",
      "\n",
      "_C37: - xij_('Atlantic',_1) + xij_('Gloucester',_1)\n",
      " + xprime_AtlanticGloucester >= 0\n",
      "\n",
      "_C38: - xij_('Atlantic',_2) + xij_('Gloucester',_2)\n",
      " + xprime_AtlanticGloucester >= 0\n",
      "\n",
      "_C39: - xij_('Atlantic',_3) + xij_('Gloucester',_3)\n",
      " + xprime_AtlanticGloucester >= 0\n",
      "\n",
      "_C40: - xij_('Atlantic',_0) + xij_('Ocean',_0) + xprime_AtlanticGloucester\n",
      " >= 0\n",
      "\n",
      "_C41: - xij_('Atlantic',_1) + xij_('Ocean',_1) + xprime_AtlanticOcean >= 0\n",
      "\n",
      "_C42: - xij_('Atlantic',_2) + xij_('Ocean',_2) + xprime_AtlanticOcean >= 0\n",
      "\n",
      "_C43: - xij_('Atlantic',_3) + xij_('Ocean',_3) + xprime_AtlanticOcean >= 0\n",
      "\n",
      "_C44: - xij_('Burlington',_0) + xij_('Camden',_0) + xprime_AtlanticOcean >= 0\n",
      "\n",
      "_C45: - xij_('Burlington',_1) + xij_('Camden',_1) + xprime_BurlingtonCamden\n",
      " >= 0\n",
      "\n",
      "_C46: - xij_('Burlington',_2) + xij_('Camden',_2) + xprime_BurlingtonCamden\n",
      " >= 0\n",
      "\n",
      "_C47: - xij_('Burlington',_3) + xij_('Camden',_3) + xprime_BurlingtonCamden\n",
      " >= 0\n",
      "\n",
      "_C48: - xij_('Burlington',_0) + xij_('Mercer',_0) + xprime_BurlingtonCamden\n",
      " >= 0\n",
      "\n",
      "_C49: - xij_('Burlington',_1) + xij_('Mercer',_1) + xprime_BurlingtonMercer\n",
      " >= 0\n",
      "\n",
      "_C50: - xij_('Burlington',_2) + xij_('Mercer',_2) + xprime_BurlingtonMercer\n",
      " >= 0\n",
      "\n",
      "_C51: - xij_('Burlington',_3) + xij_('Mercer',_3) + xprime_BurlingtonMercer\n",
      " >= 0\n",
      "\n",
      "_C52: - xij_('Burlington',_0) + xij_('Monmouth',_0) + xprime_BurlingtonMercer\n",
      " >= 0\n",
      "\n",
      "_C53: - xij_('Burlington',_1) + xij_('Monmouth',_1)\n",
      " + xprime_BurlingtonMonmouth >= 0\n",
      "\n",
      "_C54: - xij_('Burlington',_2) + xij_('Monmouth',_2)\n",
      " + xprime_BurlingtonMonmouth >= 0\n",
      "\n",
      "_C55: - xij_('Burlington',_3) + xij_('Monmouth',_3)\n",
      " + xprime_BurlingtonMonmouth >= 0\n",
      "\n",
      "_C56: - xij_('Burlington',_0) + xij_('Ocean',_0) + xprime_BurlingtonMonmouth\n",
      " >= 0\n",
      "\n",
      "_C57: - xij_('Burlington',_1) + xij_('Ocean',_1) + xprime_BurlingtonOcean >= 0\n",
      "\n",
      "_C58: - xij_('Burlington',_2) + xij_('Ocean',_2) + xprime_BurlingtonOcean >= 0\n",
      "\n",
      "_C59: - xij_('Burlington',_3) + xij_('Ocean',_3) + xprime_BurlingtonOcean >= 0\n",
      "\n",
      "_C60: - xij_('Camden',_0) + xij_('Gloucester',_0) + xprime_BurlingtonOcean\n",
      " >= 0\n",
      "\n",
      "_C61: - xij_('Camden',_1) + xij_('Gloucester',_1) + xprime_CamdenGloucester\n",
      " >= 0\n",
      "\n",
      "_C62: - xij_('Camden',_2) + xij_('Gloucester',_2) + xprime_CamdenGloucester\n",
      " >= 0\n",
      "\n",
      "_C63: - xij_('Camden',_3) + xij_('Gloucester',_3) + xprime_CamdenGloucester\n",
      " >= 0\n",
      "\n",
      "_C64: - xij_('Cape',_0) + xij_('Cumberland',_0) + xprime_CamdenGloucester >= 0\n",
      "\n",
      "_C65: - xij_('Cape',_1) + xij_('Cumberland',_1) + xprime_CapeCumberland >= 0\n",
      "\n",
      "_C66: - xij_('Cape',_2) + xij_('Cumberland',_2) + xprime_CapeCumberland >= 0\n",
      "\n",
      "_C67: - xij_('Cape',_3) + xij_('Cumberland',_3) + xprime_CapeCumberland >= 0\n",
      "\n",
      "_C68: - xij_('Cumberland',_0) + xij_('Gloucester',_0) + xprime_CapeCumberland\n",
      " >= 0\n",
      "\n",
      "_C69: - xij_('Cumberland',_1) + xij_('Gloucester',_1)\n",
      " + xprime_CumberlandGloucester >= 0\n",
      "\n",
      "_C70: - xij_('Cumberland',_2) + xij_('Gloucester',_2)\n",
      " + xprime_CumberlandGloucester >= 0\n",
      "\n",
      "_C71: - xij_('Cumberland',_3) + xij_('Gloucester',_3)\n",
      " + xprime_CumberlandGloucester >= 0\n",
      "\n",
      "_C72: - xij_('Cumberland',_0) + xij_('Salem',_0) + xprime_CumberlandGloucester\n",
      " >= 0\n",
      "\n",
      "_C73: - xij_('Cumberland',_1) + xij_('Salem',_1) + xprime_CumberlandSalem >= 0\n",
      "\n",
      "_C74: - xij_('Cumberland',_2) + xij_('Salem',_2) + xprime_CumberlandSalem >= 0\n",
      "\n",
      "_C75: - xij_('Cumberland',_3) + xij_('Salem',_3) + xprime_CumberlandSalem >= 0\n",
      "\n",
      "_C76: - xij_('Gloucester',_0) + xij_('Salem',_0) + xprime_CumberlandSalem >= 0\n",
      "\n",
      "_C77: - xij_('Gloucester',_1) + xij_('Salem',_1) + xprime_GloucesterSalem >= 0\n",
      "\n",
      "_C78: - xij_('Gloucester',_2) + xij_('Salem',_2) + xprime_GloucesterSalem >= 0\n",
      "\n",
      "_C79: - xij_('Gloucester',_3) + xij_('Salem',_3) + xprime_GloucesterSalem >= 0\n",
      "\n",
      "_C80: - xij_('Mercer',_0) + xij_('Middlesex',_0) + xprime_GloucesterSalem >= 0\n",
      "\n",
      "_C81: - xij_('Mercer',_1) + xij_('Middlesex',_1) + xprime_MercerMiddlesex >= 0\n",
      "\n",
      "_C82: - xij_('Mercer',_2) + xij_('Middlesex',_2) + xprime_MercerMiddlesex >= 0\n",
      "\n",
      "_C83: - xij_('Mercer',_3) + xij_('Middlesex',_3) + xprime_MercerMiddlesex >= 0\n",
      "\n",
      "_C84: - xij_('Mercer',_0) + xij_('Monmouth',_0) + xprime_MercerMiddlesex >= 0\n",
      "\n",
      "_C85: - xij_('Mercer',_1) + xij_('Monmouth',_1) + xprime_MercerMonmouth >= 0\n",
      "\n",
      "_C86: - xij_('Mercer',_2) + xij_('Monmouth',_2) + xprime_MercerMonmouth >= 0\n",
      "\n",
      "_C87: - xij_('Mercer',_3) + xij_('Monmouth',_3) + xprime_MercerMonmouth >= 0\n",
      "\n",
      "_C88: - xij_('Middlesex',_0) + xij_('Monmouth',_0) + xprime_MercerMonmouth\n",
      " >= 0\n",
      "\n",
      "_C89: - xij_('Middlesex',_1) + xij_('Monmouth',_1) + xprime_MiddlesexMonmouth\n",
      " >= 0\n",
      "\n",
      "_C90: - xij_('Middlesex',_2) + xij_('Monmouth',_2) + xprime_MiddlesexMonmouth\n",
      " >= 0\n",
      "\n",
      "_C91: - xij_('Middlesex',_3) + xij_('Monmouth',_3) + xprime_MiddlesexMonmouth\n",
      " >= 0\n",
      "\n",
      "_C92: - xij_('Monmouth',_0) + xij_('Ocean',_0) + xprime_MiddlesexMonmouth >= 0\n",
      "\n",
      "_C93: - xij_('Monmouth',_1) + xij_('Ocean',_1) + xprime_MonmouthOcean >= 0\n",
      "\n",
      "_C94: - xij_('Monmouth',_2) + xij_('Ocean',_2) + xprime_MonmouthOcean >= 0\n",
      "\n",
      "_C95: - xij_('Monmouth',_3) + xij_('Ocean',_3) + xprime_MonmouthOcean >= 0\n",
      "\n",
      "_C96: xij_('Atlantic',_0) - xij_('Burlington',_0) + xprime_MonmouthOcean >= 0\n",
      "\n",
      "_C97: xij_('Atlantic',_1) - xij_('Burlington',_1) + xprime_AtlanticBurlington\n",
      " >= 0\n",
      "\n",
      "_C98: xij_('Atlantic',_2) - xij_('Burlington',_2) + xprime_AtlanticBurlington\n",
      " >= 0\n",
      "\n",
      "_C99: xij_('Atlantic',_3) - xij_('Burlington',_3) + xprime_AtlanticBurlington\n",
      " >= 0\n",
      "\n",
      "_C100: xij_('Atlantic',_0) - xij_('Camden',_0) + xprime_AtlanticBurlington\n",
      " >= 0\n",
      "\n",
      "_C101: xij_('Atlantic',_1) - xij_('Camden',_1) + xprime_AtlanticCamden >= 0\n",
      "\n",
      "_C102: xij_('Atlantic',_2) - xij_('Camden',_2) + xprime_AtlanticCamden >= 0\n",
      "\n",
      "_C103: xij_('Atlantic',_3) - xij_('Camden',_3) + xprime_AtlanticCamden >= 0\n",
      "\n",
      "_C104: xij_('Atlantic',_0) - xij_('Cape',_0) + xprime_AtlanticCamden >= 0\n",
      "\n",
      "_C105: xij_('Atlantic',_1) - xij_('Cape',_1) + xprime_AtlanticCape >= 0\n",
      "\n",
      "_C106: xij_('Atlantic',_2) - xij_('Cape',_2) + xprime_AtlanticCape >= 0\n",
      "\n",
      "_C107: xij_('Atlantic',_3) - xij_('Cape',_3) + xprime_AtlanticCape >= 0\n",
      "\n",
      "_C108: xij_('Atlantic',_0) - xij_('Cumberland',_0) + xprime_AtlanticCape >= 0\n",
      "\n",
      "_C109: xij_('Atlantic',_1) - xij_('Cumberland',_1) + xprime_AtlanticCumberland\n",
      " >= 0\n",
      "\n",
      "_C110: xij_('Atlantic',_2) - xij_('Cumberland',_2) + xprime_AtlanticCumberland\n",
      " >= 0\n",
      "\n",
      "_C111: xij_('Atlantic',_3) - xij_('Cumberland',_3) + xprime_AtlanticCumberland\n",
      " >= 0\n",
      "\n",
      "_C112: xij_('Atlantic',_0) - xij_('Gloucester',_0) + xprime_AtlanticCumberland\n",
      " >= 0\n",
      "\n",
      "_C113: xij_('Atlantic',_1) - xij_('Gloucester',_1) + xprime_AtlanticGloucester\n",
      " >= 0\n",
      "\n",
      "_C114: xij_('Atlantic',_2) - xij_('Gloucester',_2) + xprime_AtlanticGloucester\n",
      " >= 0\n",
      "\n",
      "_C115: xij_('Atlantic',_3) - xij_('Gloucester',_3) + xprime_AtlanticGloucester\n",
      " >= 0\n",
      "\n",
      "_C116: xij_('Atlantic',_0) - xij_('Ocean',_0) + xprime_AtlanticGloucester >= 0\n",
      "\n",
      "_C117: xij_('Atlantic',_1) - xij_('Ocean',_1) + xprime_AtlanticOcean >= 0\n",
      "\n",
      "_C118: xij_('Atlantic',_2) - xij_('Ocean',_2) + xprime_AtlanticOcean >= 0\n",
      "\n",
      "_C119: xij_('Atlantic',_3) - xij_('Ocean',_3) + xprime_AtlanticOcean >= 0\n",
      "\n",
      "_C120: xij_('Burlington',_0) - xij_('Camden',_0) + xprime_AtlanticOcean >= 0\n",
      "\n",
      "_C121: xij_('Burlington',_1) - xij_('Camden',_1) + xprime_BurlingtonCamden\n",
      " >= 0\n",
      "\n",
      "_C122: xij_('Burlington',_2) - xij_('Camden',_2) + xprime_BurlingtonCamden\n",
      " >= 0\n",
      "\n",
      "_C123: xij_('Burlington',_3) - xij_('Camden',_3) + xprime_BurlingtonCamden\n",
      " >= 0\n",
      "\n",
      "_C124: xij_('Burlington',_0) - xij_('Mercer',_0) + xprime_BurlingtonCamden\n",
      " >= 0\n",
      "\n",
      "_C125: xij_('Burlington',_1) - xij_('Mercer',_1) + xprime_BurlingtonMercer\n",
      " >= 0\n",
      "\n",
      "_C126: xij_('Burlington',_2) - xij_('Mercer',_2) + xprime_BurlingtonMercer\n",
      " >= 0\n",
      "\n",
      "_C127: xij_('Burlington',_3) - xij_('Mercer',_3) + xprime_BurlingtonMercer\n",
      " >= 0\n",
      "\n",
      "_C128: xij_('Burlington',_0) - xij_('Monmouth',_0) + xprime_BurlingtonMercer\n",
      " >= 0\n",
      "\n",
      "_C129: xij_('Burlington',_1) - xij_('Monmouth',_1) + xprime_BurlingtonMonmouth\n",
      " >= 0\n",
      "\n",
      "_C130: xij_('Burlington',_2) - xij_('Monmouth',_2) + xprime_BurlingtonMonmouth\n",
      " >= 0\n",
      "\n",
      "_C131: xij_('Burlington',_3) - xij_('Monmouth',_3) + xprime_BurlingtonMonmouth\n",
      " >= 0\n",
      "\n",
      "_C132: xij_('Burlington',_0) - xij_('Ocean',_0) + xprime_BurlingtonMonmouth\n",
      " >= 0\n",
      "\n",
      "_C133: xij_('Burlington',_1) - xij_('Ocean',_1) + xprime_BurlingtonOcean >= 0\n",
      "\n",
      "_C134: xij_('Burlington',_2) - xij_('Ocean',_2) + xprime_BurlingtonOcean >= 0\n",
      "\n",
      "_C135: xij_('Burlington',_3) - xij_('Ocean',_3) + xprime_BurlingtonOcean >= 0\n",
      "\n",
      "_C136: xij_('Camden',_0) - xij_('Gloucester',_0) + xprime_BurlingtonOcean >= 0\n",
      "\n",
      "_C137: xij_('Camden',_1) - xij_('Gloucester',_1) + xprime_CamdenGloucester\n",
      " >= 0\n",
      "\n",
      "_C138: xij_('Camden',_2) - xij_('Gloucester',_2) + xprime_CamdenGloucester\n",
      " >= 0\n",
      "\n",
      "_C139: xij_('Camden',_3) - xij_('Gloucester',_3) + xprime_CamdenGloucester\n",
      " >= 0\n",
      "\n",
      "_C140: xij_('Cape',_0) - xij_('Cumberland',_0) + xprime_CamdenGloucester >= 0\n",
      "\n",
      "_C141: xij_('Cape',_1) - xij_('Cumberland',_1) + xprime_CapeCumberland >= 0\n",
      "\n",
      "_C142: xij_('Cape',_2) - xij_('Cumberland',_2) + xprime_CapeCumberland >= 0\n",
      "\n",
      "_C143: xij_('Cape',_3) - xij_('Cumberland',_3) + xprime_CapeCumberland >= 0\n",
      "\n",
      "_C144: xij_('Cumberland',_0) - xij_('Gloucester',_0) + xprime_CapeCumberland\n",
      " >= 0\n",
      "\n",
      "_C145: xij_('Cumberland',_1) - xij_('Gloucester',_1)\n",
      " + xprime_CumberlandGloucester >= 0\n",
      "\n",
      "_C146: xij_('Cumberland',_2) - xij_('Gloucester',_2)\n",
      " + xprime_CumberlandGloucester >= 0\n",
      "\n",
      "_C147: xij_('Cumberland',_3) - xij_('Gloucester',_3)\n",
      " + xprime_CumberlandGloucester >= 0\n",
      "\n",
      "_C148: xij_('Cumberland',_0) - xij_('Salem',_0) + xprime_CumberlandGloucester\n",
      " >= 0\n",
      "\n",
      "_C149: xij_('Cumberland',_1) - xij_('Salem',_1) + xprime_CumberlandSalem >= 0\n",
      "\n",
      "_C150: xij_('Cumberland',_2) - xij_('Salem',_2) + xprime_CumberlandSalem >= 0\n",
      "\n",
      "_C151: xij_('Cumberland',_3) - xij_('Salem',_3) + xprime_CumberlandSalem >= 0\n",
      "\n",
      "_C152: xij_('Gloucester',_0) - xij_('Salem',_0) + xprime_CumberlandSalem >= 0\n",
      "\n",
      "_C153: xij_('Gloucester',_1) - xij_('Salem',_1) + xprime_GloucesterSalem >= 0\n",
      "\n",
      "_C154: xij_('Gloucester',_2) - xij_('Salem',_2) + xprime_GloucesterSalem >= 0\n",
      "\n",
      "_C155: xij_('Gloucester',_3) - xij_('Salem',_3) + xprime_GloucesterSalem >= 0\n",
      "\n",
      "_C156: xij_('Mercer',_0) - xij_('Middlesex',_0) + xprime_GloucesterSalem >= 0\n",
      "\n",
      "_C157: xij_('Mercer',_1) - xij_('Middlesex',_1) + xprime_MercerMiddlesex >= 0\n",
      "\n",
      "_C158: xij_('Mercer',_2) - xij_('Middlesex',_2) + xprime_MercerMiddlesex >= 0\n",
      "\n",
      "_C159: xij_('Mercer',_3) - xij_('Middlesex',_3) + xprime_MercerMiddlesex >= 0\n",
      "\n",
      "_C160: xij_('Mercer',_0) - xij_('Monmouth',_0) + xprime_MercerMiddlesex >= 0\n",
      "\n",
      "_C161: xij_('Mercer',_1) - xij_('Monmouth',_1) + xprime_MercerMonmouth >= 0\n",
      "\n",
      "_C162: xij_('Mercer',_2) - xij_('Monmouth',_2) + xprime_MercerMonmouth >= 0\n",
      "\n",
      "_C163: xij_('Mercer',_3) - xij_('Monmouth',_3) + xprime_MercerMonmouth >= 0\n",
      "\n",
      "_C164: xij_('Middlesex',_0) - xij_('Monmouth',_0) + xprime_MercerMonmouth >= 0\n",
      "\n",
      "_C165: xij_('Middlesex',_1) - xij_('Monmouth',_1) + xprime_MiddlesexMonmouth\n",
      " >= 0\n",
      "\n",
      "_C166: xij_('Middlesex',_2) - xij_('Monmouth',_2) + xprime_MiddlesexMonmouth\n",
      " >= 0\n",
      "\n",
      "_C167: xij_('Middlesex',_3) - xij_('Monmouth',_3) + xprime_MiddlesexMonmouth\n",
      " >= 0\n",
      "\n",
      "_C168: xij_('Monmouth',_0) - xij_('Ocean',_0) + xprime_MiddlesexMonmouth >= 0\n",
      "\n",
      "_C169: xij_('Monmouth',_1) - xij_('Ocean',_1) + xprime_MonmouthOcean >= 0\n",
      "\n",
      "_C170: xij_('Monmouth',_2) - xij_('Ocean',_2) + xprime_MonmouthOcean >= 0\n",
      "\n",
      "_C171: xij_('Monmouth',_3) - xij_('Ocean',_3) + xprime_MonmouthOcean >= 0\n",
      "\n",
      "_C172: xij_('Atlantic',_0) - xij_('Burlington',_0) - xij_('Camden',_0)\n",
      " - xij_('Cape',_0) - xij_('Cumberland',_0) - xij_('Gloucester',_0)\n",
      " - xij_('Ocean',_0) <= 0\n",
      "\n",
      "_C173: - xij_('Atlantic',_0) + xij_('Burlington',_0) - xij_('Camden',_0)\n",
      " - xij_('Mercer',_0) - xij_('Monmouth',_0) - xij_('Ocean',_0) <= 0\n",
      "\n",
      "_C174: - xij_('Atlantic',_0) - xij_('Burlington',_0) + xij_('Camden',_0)\n",
      " - xij_('Gloucester',_0) <= 0\n",
      "\n",
      "_C175: - xij_('Atlantic',_0) + xij_('Cape',_0) - xij_('Cumberland',_0) <= 0\n",
      "\n",
      "_C176: - xij_('Atlantic',_0) - xij_('Cape',_0) + xij_('Cumberland',_0)\n",
      " - xij_('Gloucester',_0) - xij_('Salem',_0) <= 0\n",
      "\n",
      "_C177: - xij_('Atlantic',_0) - xij_('Camden',_0) - xij_('Cumberland',_0)\n",
      " + xij_('Gloucester',_0) - xij_('Salem',_0) <= 0\n",
      "\n",
      "_C178: - xij_('Burlington',_0) + xij_('Mercer',_0) - xij_('Middlesex',_0)\n",
      " - xij_('Monmouth',_0) <= 0\n",
      "\n",
      "_C179: - xij_('Burlington',_0) - xij_('Mercer',_0) - xij_('Middlesex',_0)\n",
      " + xij_('Monmouth',_0) - xij_('Ocean',_0) <= 0\n",
      "\n",
      "_C180: - xij_('Atlantic',_0) - xij_('Burlington',_0) - xij_('Monmouth',_0)\n",
      " + xij_('Ocean',_0) <= 0\n",
      "\n",
      "_C181: - xij_('Cumberland',_0) - xij_('Gloucester',_0) + xij_('Salem',_0) <= 0\n",
      "\n",
      "_C182: xij_('Atlantic',_1) - xij_('Burlington',_1) - xij_('Camden',_1)\n",
      " - xij_('Cape',_1) - xij_('Cumberland',_1) - xij_('Gloucester',_1)\n",
      " - xij_('Ocean',_1) <= 0\n",
      "\n",
      "_C183: - xij_('Atlantic',_1) + xij_('Burlington',_1) - xij_('Camden',_1)\n",
      " - xij_('Mercer',_1) - xij_('Monmouth',_1) - xij_('Ocean',_1) <= 0\n",
      "\n",
      "_C184: - xij_('Atlantic',_1) - xij_('Burlington',_1) + xij_('Camden',_1)\n",
      " - xij_('Gloucester',_1) <= 0\n",
      "\n",
      "_C185: - xij_('Atlantic',_1) + xij_('Cape',_1) - xij_('Cumberland',_1) <= 0\n",
      "\n",
      "_C186: - xij_('Atlantic',_1) - xij_('Cape',_1) + xij_('Cumberland',_1)\n",
      " - xij_('Gloucester',_1) - xij_('Salem',_1) <= 0\n",
      "\n",
      "_C187: - xij_('Atlantic',_1) - xij_('Camden',_1) - xij_('Cumberland',_1)\n",
      " + xij_('Gloucester',_1) - xij_('Salem',_1) <= 0\n",
      "\n",
      "_C188: - xij_('Burlington',_1) + xij_('Mercer',_1) - xij_('Middlesex',_1)\n",
      " - xij_('Monmouth',_1) <= 0\n",
      "\n",
      "_C189: - xij_('Burlington',_1) - xij_('Mercer',_1) - xij_('Middlesex',_1)\n",
      " + xij_('Monmouth',_1) - xij_('Ocean',_1) <= 0\n",
      "\n",
      "_C190: - xij_('Atlantic',_1) - xij_('Burlington',_1) - xij_('Monmouth',_1)\n",
      " + xij_('Ocean',_1) <= 0\n",
      "\n",
      "_C191: - xij_('Cumberland',_1) - xij_('Gloucester',_1) + xij_('Salem',_1) <= 0\n",
      "\n",
      "_C192: xij_('Atlantic',_2) - xij_('Burlington',_2) - xij_('Camden',_2)\n",
      " - xij_('Cape',_2) - xij_('Cumberland',_2) - xij_('Gloucester',_2)\n",
      " - xij_('Ocean',_2) <= 0\n",
      "\n",
      "_C193: - xij_('Atlantic',_2) + xij_('Burlington',_2) - xij_('Camden',_2)\n",
      " - xij_('Mercer',_2) - xij_('Monmouth',_2) - xij_('Ocean',_2) <= 0\n",
      "\n",
      "_C194: - xij_('Atlantic',_2) - xij_('Burlington',_2) + xij_('Camden',_2)\n",
      " - xij_('Gloucester',_2) <= 0\n",
      "\n",
      "_C195: - xij_('Atlantic',_2) + xij_('Cape',_2) - xij_('Cumberland',_2) <= 0\n",
      "\n",
      "_C196: - xij_('Atlantic',_2) - xij_('Cape',_2) + xij_('Cumberland',_2)\n",
      " - xij_('Gloucester',_2) - xij_('Salem',_2) <= 0\n",
      "\n",
      "_C197: - xij_('Atlantic',_2) - xij_('Camden',_2) - xij_('Cumberland',_2)\n",
      " + xij_('Gloucester',_2) - xij_('Salem',_2) <= 0\n",
      "\n",
      "_C198: - xij_('Burlington',_2) + xij_('Mercer',_2) - xij_('Middlesex',_2)\n",
      " - xij_('Monmouth',_2) <= 0\n",
      "\n",
      "_C199: - xij_('Burlington',_2) - xij_('Mercer',_2) - xij_('Middlesex',_2)\n",
      " + xij_('Monmouth',_2) - xij_('Ocean',_2) <= 0\n",
      "\n",
      "_C200: - xij_('Atlantic',_2) - xij_('Burlington',_2) - xij_('Monmouth',_2)\n",
      " + xij_('Ocean',_2) <= 0\n",
      "\n",
      "_C201: - xij_('Cumberland',_2) - xij_('Gloucester',_2) + xij_('Salem',_2) <= 0\n",
      "\n",
      "_C202: xij_('Atlantic',_3) - xij_('Burlington',_3) - xij_('Camden',_3)\n",
      " - xij_('Cape',_3) - xij_('Cumberland',_3) - xij_('Gloucester',_3)\n",
      " - xij_('Ocean',_3) <= 0\n",
      "\n",
      "_C203: - xij_('Atlantic',_3) + xij_('Burlington',_3) - xij_('Camden',_3)\n",
      " - xij_('Mercer',_3) - xij_('Monmouth',_3) - xij_('Ocean',_3) <= 0\n",
      "\n",
      "_C204: - xij_('Atlantic',_3) - xij_('Burlington',_3) + xij_('Camden',_3)\n",
      " - xij_('Gloucester',_3) <= 0\n",
      "\n",
      "_C205: - xij_('Atlantic',_3) + xij_('Cape',_3) - xij_('Cumberland',_3) <= 0\n",
      "\n",
      "_C206: - xij_('Atlantic',_3) - xij_('Cape',_3) + xij_('Cumberland',_3)\n",
      " - xij_('Gloucester',_3) - xij_('Salem',_3) <= 0\n",
      "\n",
      "_C207: - xij_('Atlantic',_3) - xij_('Camden',_3) - xij_('Cumberland',_3)\n",
      " + xij_('Gloucester',_3) - xij_('Salem',_3) <= 0\n",
      "\n",
      "_C208: - xij_('Burlington',_3) + xij_('Mercer',_3) - xij_('Middlesex',_3)\n",
      " - xij_('Monmouth',_3) <= 0\n",
      "\n",
      "_C209: - xij_('Burlington',_3) - xij_('Mercer',_3) - xij_('Middlesex',_3)\n",
      " + xij_('Monmouth',_3) - xij_('Ocean',_3) <= 0\n",
      "\n",
      "_C210: - xij_('Atlantic',_3) - xij_('Burlington',_3) - xij_('Monmouth',_3)\n",
      " + xij_('Ocean',_3) <= 0\n",
      "\n",
      "_C211: - xij_('Cumberland',_3) - xij_('Gloucester',_3) + xij_('Salem',_3) <= 0\n",
      "\n",
      "VARIABLES\n",
      "0 <= xij_('Atlantic',_0) <= 1 Integer\n",
      "0 <= xij_('Atlantic',_1) <= 1 Integer\n",
      "0 <= xij_('Atlantic',_2) <= 1 Integer\n",
      "0 <= xij_('Atlantic',_3) <= 1 Integer\n",
      "0 <= xij_('Burlington',_0) <= 1 Integer\n",
      "0 <= xij_('Burlington',_1) <= 1 Integer\n",
      "0 <= xij_('Burlington',_2) <= 1 Integer\n",
      "0 <= xij_('Burlington',_3) <= 1 Integer\n",
      "0 <= xij_('Camden',_0) <= 1 Integer\n",
      "0 <= xij_('Camden',_1) <= 1 Integer\n",
      "0 <= xij_('Camden',_2) <= 1 Integer\n",
      "0 <= xij_('Camden',_3) <= 1 Integer\n",
      "0 <= xij_('Cape',_0) <= 1 Integer\n",
      "0 <= xij_('Cape',_1) <= 1 Integer\n",
      "0 <= xij_('Cape',_2) <= 1 Integer\n",
      "0 <= xij_('Cape',_3) <= 1 Integer\n",
      "0 <= xij_('Cumberland',_0) <= 1 Integer\n",
      "0 <= xij_('Cumberland',_1) <= 1 Integer\n",
      "0 <= xij_('Cumberland',_2) <= 1 Integer\n",
      "0 <= xij_('Cumberland',_3) <= 1 Integer\n",
      "0 <= xij_('Gloucester',_0) <= 1 Integer\n",
      "0 <= xij_('Gloucester',_1) <= 1 Integer\n",
      "0 <= xij_('Gloucester',_2) <= 1 Integer\n",
      "0 <= xij_('Gloucester',_3) <= 1 Integer\n",
      "0 <= xij_('Mercer',_0) <= 1 Integer\n",
      "0 <= xij_('Mercer',_1) <= 1 Integer\n",
      "0 <= xij_('Mercer',_2) <= 1 Integer\n",
      "0 <= xij_('Mercer',_3) <= 1 Integer\n",
      "0 <= xij_('Middlesex',_0) <= 1 Integer\n",
      "0 <= xij_('Middlesex',_1) <= 1 Integer\n",
      "0 <= xij_('Middlesex',_2) <= 1 Integer\n",
      "0 <= xij_('Middlesex',_3) <= 1 Integer\n",
      "0 <= xij_('Monmouth',_0) <= 1 Integer\n",
      "0 <= xij_('Monmouth',_1) <= 1 Integer\n",
      "0 <= xij_('Monmouth',_2) <= 1 Integer\n",
      "0 <= xij_('Monmouth',_3) <= 1 Integer\n",
      "0 <= xij_('Ocean',_0) <= 1 Integer\n",
      "0 <= xij_('Ocean',_1) <= 1 Integer\n",
      "0 <= xij_('Ocean',_2) <= 1 Integer\n",
      "0 <= xij_('Ocean',_3) <= 1 Integer\n",
      "0 <= xij_('Salem',_0) <= 1 Integer\n",
      "0 <= xij_('Salem',_1) <= 1 Integer\n",
      "0 <= xij_('Salem',_2) <= 1 Integer\n",
      "0 <= xij_('Salem',_3) <= 1 Integer\n",
      "0 <= xprime_AtlanticBurlington <= 1 Integer\n",
      "0 <= xprime_AtlanticCamden <= 1 Integer\n",
      "0 <= xprime_AtlanticCape <= 1 Integer\n",
      "0 <= xprime_AtlanticCumberland <= 1 Integer\n",
      "0 <= xprime_AtlanticGloucester <= 1 Integer\n",
      "0 <= xprime_AtlanticOcean <= 1 Integer\n",
      "0 <= xprime_BurlingtonCamden <= 1 Integer\n",
      "0 <= xprime_BurlingtonMercer <= 1 Integer\n",
      "0 <= xprime_BurlingtonMonmouth <= 1 Integer\n",
      "0 <= xprime_BurlingtonOcean <= 1 Integer\n",
      "0 <= xprime_CamdenGloucester <= 1 Integer\n",
      "0 <= xprime_CapeCumberland <= 1 Integer\n",
      "0 <= xprime_CumberlandGloucester <= 1 Integer\n",
      "0 <= xprime_CumberlandSalem <= 1 Integer\n",
      "0 <= xprime_GloucesterSalem <= 1 Integer\n",
      "0 <= xprime_MercerMiddlesex <= 1 Integer\n",
      "0 <= xprime_MercerMonmouth <= 1 Integer\n",
      "0 <= xprime_MiddlesexMonmouth <= 1 Integer\n",
      "0 <= xprime_MonmouthOcean <= 1 Integer\n",
      "\n"
     ]
    }
   ],
   "source": [
    "print(prob)"
   ]
  }
 ],
 "metadata": {
  "colab": {
   "include_colab_link": true,
   "provenance": []
  },
  "kernelspec": {
   "display_name": "Python 3 (ipykernel)",
   "language": "python",
   "name": "python3"
  },
  "language_info": {
   "codemirror_mode": {
    "name": "ipython",
    "version": 3
   },
   "file_extension": ".py",
   "mimetype": "text/x-python",
   "name": "python",
   "nbconvert_exporter": "python",
   "pygments_lexer": "ipython3",
   "version": "3.10.9"
  }
 },
 "nbformat": 4,
 "nbformat_minor": 5
}
